{
  "nbformat": 4,
  "nbformat_minor": 0,
  "metadata": {
    "colab": {
      "name": "Auto_reg.ipynb",
      "provenance": [],
      "collapsed_sections": []
    },
    "kernelspec": {
      "name": "python3",
      "display_name": "Python 3"
    },
    "language_info": {
      "name": "python"
    }
  },
  "cells": [
    {
      "cell_type": "code",
      "metadata": {
        "id": "M1pAjEwO7AFA",
        "colab": {
          "base_uri": "https://localhost:8080/"
        },
        "outputId": "9a488456-675f-4e1b-b6d0-e6a7ce136bc8"
      },
      "source": [
        "import pandas as pd\n",
        "pd.set_option('mode.chained_assignment', None)\n",
        "import numpy as np\n",
        "import matplotlib.pyplot as plt\n",
        "from pandas.plotting import register_matplotlib_converters\n",
        "register_matplotlib_converters()\n",
        "from statsmodels.graphics.tsaplots import plot_pacf, plot_acf\n",
        "import time\n",
        "from sklearn.metrics import mean_squared_error,r2_score"
      ],
      "execution_count": null,
      "outputs": [
        {
          "output_type": "stream",
          "name": "stderr",
          "text": [
            "/usr/local/lib/python3.7/dist-packages/statsmodels/tools/_testing.py:19: FutureWarning: pandas.util.testing is deprecated. Use the functions in the public API at pandas.testing instead.\n",
            "  import pandas.util.testing as tm\n"
          ]
        }
      ]
    },
    {
      "cell_type": "code",
      "metadata": {
        "id": "PFV7z4f4AI3k"
      },
      "source": [
        "# Data preprocessing\n",
        "def EDA(df):\n",
        "\t#creating dataframe with date and the target variable\n",
        "\tdata = df.sort_index(ascending=True, axis=0)\n",
        "\t# Generate new dataframe\n",
        "\tnew_data = pd.DataFrame()\n",
        "\tnew_data[\"Production\"] = data[\"Production\"]\n",
        "\treturn new_data\n",
        "\n",
        "# To find out order of AR\n",
        "def plotting_pacf(df, sequence_length):\n",
        "\tplot_pacf(df.Production, lags = sequence_length)\n",
        "\tplt.show()\n",
        "\n",
        "# Generate required dataset\n",
        "def required_dataset(df,train_size):\n",
        "\t# After finding pacf value, only first ordered AR is considered\n",
        "\tdf[\"Shifted_by_1\"] = df[\"Production\"].shift()\n",
        "\tdf.dropna(inplace=True)\n",
        "\t# Define dependent and independent variable\n",
        "\ty = df[\"Production\"].values\n",
        "\tX = df[\"Shifted_by_1\"].values\n",
        "\t# Generate train and test dataset\n",
        "\tX_train, X_test = X[0:train_size], X[train_size:len(X)]\n",
        "\ty_train, y_test = y[0:train_size], y[train_size:len(X)]\n",
        "\tX_train = X_train.reshape(-1,1)\n",
        "\tX_test = X_test.reshape(-1,1)\n",
        "\treturn X_train, y_train, X_test, y_test\n",
        "\n",
        "# To find out coefficient and intercept of the AR model\n",
        "def fit_model(X,y,train_size):\n",
        "\tsum_x, sum_x2, sum_y, sum_xy, n = 0.0,0.0,0.0,0.0, train_size\n",
        "\tfor i in range(len(X)):\n",
        "\t\tsum_x += X[i][0]\n",
        "\t\tsum_x2 += X[i][0] **2\n",
        "\t\tsum_y += y[i]\n",
        "\t\tsum_xy += X[i][0]*y[i]\n",
        "\t# Calculate coefficient and intercept\n",
        "\tCoefficient = (n*sum_xy-sum_x*sum_y)/(n*sum_x2 - sum_x**2)\n",
        "\tIntercept = (sum_y*sum_x2 - sum_x*sum_xy)/(n*sum_x2 - sum_x**2)\n",
        "\treturn Coefficient, Intercept\n",
        "\n",
        "def predictions(Coefficient, Intercept, X):\n",
        "\ty_pred = Coefficient * X + Intercept\n",
        "\treturn y_pred\n",
        "\n",
        "def rmse(y_test, y_pred):\n",
        "\tRMSE = np.sqrt(mean_squared_error(y_test, y_pred))\n",
        "\treturn RMSE\n",
        "\n",
        "def final_plot(y_test, y_pred):\n",
        "\t# Plot\n",
        "\tplt.plot(y_test, label=\"Actual Values\")\n",
        "\tplt.plot(y_pred, label=\"Predicted Values\")\n",
        "\tplt.legend()\n",
        "\tplt.show()"
      ],
      "execution_count": null,
      "outputs": []
    },
    {
      "cell_type": "code",
      "metadata": {
        "colab": {
          "base_uri": "https://localhost:8080/"
        },
        "id": "prRGDgkBA5PF",
        "outputId": "96a999e2-14ad-4f09-e2ff-326e535f9c5e"
      },
      "source": [
        "time_taken = []\n",
        "for _ in range(5):\n",
        "  # Starting timer\n",
        "  start = time.time()\n",
        "  df = pd.read_csv(\"crop_prod_clean.csv\")\n",
        "  new_data = EDA(df)\n",
        "  # print(new_data)\n",
        "  #To check pacf plot\n",
        "  #plotting_pacf(new_data, 30)\n",
        "  # declare training data size\n",
        "  train_size = int(len(new_data) * 0.80)\n",
        "  X_train, y_train, X_test, y_test = required_dataset(new_data, train_size)\n",
        "  Coefficient, Intercept = fit_model(X_train, y_train, train_size)\n",
        "  y_pred = predictions(Coefficient, Intercept, X_test)\n",
        "  RMSE = rmse(y_test, y_pred)\n",
        "  r2 = r2_score(y_test,y_pred)\n",
        "  # End timer\n",
        "  end = time.time()\n",
        "  time_taken.append(end-start)\n",
        "print(df.size)\n",
        "print(\"The RMSE is :\", RMSE)\n",
        "print(\"The R^2 value is: \",r2)\n",
        "print(\"Average time taken by serial code = \",np.mean(time_taken), \" seconds\")\n",
        "# To check final plot after predictions\n",
        "# final_plot(y_test,y_pred)"
      ],
      "execution_count": null,
      "outputs": [
        {
          "output_type": "stream",
          "name": "stdout",
          "text": [
            "1968608\n",
            "The RMSE is : 19217839.515648425\n",
            "The R^2 value is:  -0.00021295542807053813\n",
            "Average time taken by serial code =  0.6672359943389893  seconds\n"
          ]
        }
      ]
    },
    {
      "cell_type": "code",
      "metadata": {
        "id": "Eno2RPm0BaQr"
      },
      "source": [
        "# importing libraries\n",
        "import pandas as pd\n",
        "pd.set_option('mode.chained_assignment', None)\n",
        "import numpy as np\n",
        "import matplotlib.pyplot as plt\n",
        "from pandas.plotting import register_matplotlib_converters\n",
        "register_matplotlib_converters()\n",
        "from statsmodels.graphics.tsaplots import plot_pacf, plot_acf\n",
        "import time\n",
        "from sklearn.metrics import mean_squared_error, r2_score\n",
        "from numba import config, njit, set_num_threads, prange\n",
        "# Setting the OPENMP threading layer\n",
        "config.THREADING_LAYER = 'omp'\n",
        "#set_num_threads(4)\n",
        "#config.NUMBA_NUM_THREADS = 2"
      ],
      "execution_count": null,
      "outputs": []
    },
    {
      "cell_type": "code",
      "metadata": {
        "id": "WTri8RofC1tE"
      },
      "source": [
        "# Data preprocessing\n",
        "def EDA(df):\n",
        "\t# setting the index as date\n",
        "\t# df['Date'] = pd.to_datetime(df.Date,format='%Y-%m-%d')\n",
        "\t# df.index = df['Date']\n",
        "\n",
        "\t#creating dataframe with date and the target variable\n",
        "\tdata = df.sort_index(ascending=True, axis=0)\n",
        "\t# Generate new dataframe\n",
        "\tnew_data = pd.DataFrame()\n",
        "\t# new_data[\"Date\"] = data[\"Date\"]\n",
        "\tnew_data[\"Production\"] = data[\"Production\"]\n",
        "\treturn new_data\n",
        "\n",
        "# To find out order of AR\n",
        "def plotting_pacf(df, sequence_length):\n",
        "\tplot_pacf(df.Production, lags = sequence_length)\n",
        "\tplt.show()\n",
        "\n",
        "# Generate required dataset\n",
        "def required_dataset(df,train_size):\n",
        "\t# After finding pacf value, only first ordered AR is considered\n",
        "\tdf[\"Shifted_by_1\"] = df[\"Production\"].shift()\n",
        "\tdf.dropna(inplace=True)\n",
        "\t# Define dependent and independent variable\n",
        "\ty = df[\"Production\"].values\n",
        "\tX = df[\"Shifted_by_1\"].values\n",
        "\t# Generate train and test dataset\n",
        "\tX_train, X_test = X[0:train_size], X[train_size:len(X)]\n",
        "\ty_train, y_test = y[0:train_size], y[train_size:len(X)]\n",
        "\tX_train = X_train.reshape(-1,1)\n",
        "\tX_test = X_test.reshape(-1,1)\n",
        "\treturn X_train, y_train, X_test, y_test\n",
        "\n",
        "@njit(parallel = True)\n",
        "def fitting_model(X,y,train_size):\n",
        "\tsum_x, sum_x2, sum_y, sum_xy, n = 0.0,0.0,0.0,0.0, train_size\n",
        "\tfor i in prange(len(X)):\n",
        "\t\tsum_x += X[i][0]\n",
        "\t\tsum_x2 += X[i][0] **2\n",
        "\t\tsum_y += y[i]\n",
        "\t\tsum_xy += X[i][0]*y[i]\n",
        "\t# Calculate coefficient and intercept\n",
        "\tCoefficient = (n*sum_xy-sum_x*sum_y)/(n*sum_x2 - sum_x**2)\n",
        "\tIntercept = (sum_y*sum_x2 - sum_x*sum_xy)/(n*sum_x2 - sum_x**2)\n",
        "\treturn Coefficient, Intercept\n",
        "\n",
        "def predictions(Coefficient, Intercept, X):\n",
        "\ty_pred = Coefficient * X + Intercept\n",
        "\treturn y_pred\n",
        "\n",
        "def rmse(y_test, y_pred):\n",
        "\tRMSE = np.sqrt(mean_squared_error(y_test, y_pred))\n",
        "\treturn RMSE\n",
        "\n",
        "def final_plot(y_test, y_pred):\n",
        "\t# Plot\n",
        "\tplt.plot(y_test, label=\"Actual Values\")\n",
        "\tplt.plot(y_pred, label=\"Predicted Values\")\n",
        "\tplt.legend()\n",
        "\tplt.show()"
      ],
      "execution_count": null,
      "outputs": []
    },
    {
      "cell_type": "code",
      "metadata": {
        "colab": {
          "base_uri": "https://localhost:8080/"
        },
        "id": "hELq-Ry7DP_9",
        "outputId": "ff24def8-0d50-4c2e-adc1-0ae04aee802f"
      },
      "source": [
        "\n",
        "tdz = np.array([2, 4, 8, 16, 32, 64, 128]) \n",
        "ttime = []\n",
        "ttime.append(0.6672359943389893)\n",
        "for i in tdz:\n",
        "\tconfig.NUMBA_NUM_THREADS = i\n",
        "\ttime_taken = []\n",
        "\tfor _ in range(5):\n",
        "\t\t# Actual \n",
        "\t\t# Starting timer\n",
        "\t\tstart = time.time()\n",
        "\t\tdf = pd.read_csv(\"crop_prod_clean.csv\")\n",
        "\t\tnew_data = EDA(df)\n",
        "\t\t# To check pacf plot\n",
        "\t\t# plotting_pacf(new_data, 30)\n",
        "\t\t# declare training data size\n",
        "\t\ttrain_size = int(len(new_data) * 0.80)\n",
        "\t\tX_train, y_train, X_test, y_test = required_dataset(new_data, train_size)\n",
        "\t\tCoefficient, Intercept = fitting_model(np.array(X_train), np.array(y_train), train_size)\n",
        "\t\ty_pred = predictions(Coefficient, Intercept, X_test)\n",
        "\t\tRMSE = rmse(y_test, y_pred)\n",
        "\t\tr2 = r2_score(y_test, y_pred)\n",
        "\t\t# End timer\n",
        "\t\tend = time.time()\n",
        "\t\ttime_taken.append(end-start)\n",
        "\tttime.append(np.mean(time_taken))\n",
        "print(\"The RMSE is :\", RMSE)\n",
        "print(\"The R^2 value is: \",r2)\n",
        "for i in range(len(tdz)):\n",
        "\tprint(\"Average time taken by \",tdz[i],\"\\t\",\"threads: \",ttime[i+1],)\n",
        "# fitting_model.parallel_diagnostics(level=4)\n",
        "# To check final plot after predictions\n",
        "# final_plot(y_test,y_pred)"
      ],
      "execution_count": null,
      "outputs": [
        {
          "output_type": "stream",
          "name": "stdout",
          "text": [
            "The RMSE is : 19217839.51564842\n",
            "The R^2 value is:  -0.00021295542807053813\n",
            "Average time taken by  2 \t threads:  0.18798470497131348\n",
            "Average time taken by  4 \t threads:  0.18949284553527831\n",
            "Average time taken by  8 \t threads:  0.18807435035705566\n",
            "Average time taken by  16 \t threads:  0.19359636306762695\n",
            "Average time taken by  32 \t threads:  0.18922114372253418\n",
            "Average time taken by  64 \t threads:  0.18378772735595703\n",
            "Average time taken by  128 \t threads:  0.1841531753540039\n"
          ]
        }
      ]
    },
    {
      "cell_type": "code",
      "metadata": {
        "colab": {
          "base_uri": "https://localhost:8080/",
          "height": 279
        },
        "id": "LmwYjkkhAkps",
        "outputId": "f3687389-21e2-4717-9e34-f8c74ae1d42a"
      },
      "source": [
        "import matplotlib.pyplot as plt\n",
        "import numpy as np\n",
        "  \n",
        "# define data values\n",
        "x = np.array([1, 2, 4, 8, 16, 32, 64, 128])  \n",
        "y = np.array(ttime)\n",
        "  \n",
        "plt.plot(x, y, \"-o\")\n",
        "plt.xlabel(\"Number of Threads\")\n",
        "plt.ylabel(\"Time taken\")\n",
        "plt.show() "
      ],
      "execution_count": null,
      "outputs": [
        {
          "output_type": "display_data",
          "data": {
            "image/png": "[encoded data removed]",
            "text/plain": [
              "<Figure size 432x288 with 1 Axes>"
            ]
          },
          "metadata": {
            "needs_background": "light"
          }
        }
      ]
    }
  ]
}