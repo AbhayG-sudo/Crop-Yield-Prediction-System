{
  "nbformat": 4,
  "nbformat_minor": 0,
  "metadata": {
    "colab": {
      "name": "KNN_PDC.ipynb",
      "provenance": [],
      "collapsed_sections": []
    },
    "kernelspec": {
      "display_name": "Python 3",
      "language": "python",
      "name": "python3"
    },
    "language_info": {
      "codemirror_mode": {
        "name": "ipython",
        "version": 3
      },
      "file_extension": ".py",
      "mimetype": "text/x-python",
      "name": "python",
      "nbconvert_exporter": "python",
      "pygments_lexer": "ipython3",
      "version": "3.8.3"
    }
  },
  "cells": [
    {
      "cell_type": "code",
      "metadata": {
        "id": "KEiNYdRKNGLm"
      },
      "source": [
        "import numpy as np\n",
        "import pandas as pd\n",
        "import matplotlib.pyplot as plt\n",
        "import plotly.express as px \n",
        "import math\n",
        "import seaborn as sb"
      ],
      "execution_count": null,
      "outputs": []
    },
    {
      "cell_type": "code",
      "metadata": {
        "id": "hgedZ4k9PpA7",
        "colab": {
          "base_uri": "https://localhost:8080/",
          "height": 206
        },
        "outputId": "efbb9a38-ccc8-41d9-cf7d-1638eb7519e5"
      },
      "source": [
        "df = pd.read_csv('crop_prod.csv')\n",
        "df.head()"
      ],
      "execution_count": null,
      "outputs": [
        {
          "output_type": "execute_result",
          "data": {
            "text/html": [
              "<div>\n",
              "<style scoped>\n",
              "    .dataframe tbody tr th:only-of-type {\n",
              "        vertical-align: middle;\n",
              "    }\n",
              "\n",
              "    .dataframe tbody tr th {\n",
              "        vertical-align: top;\n",
              "    }\n",
              "\n",
              "    .dataframe thead th {\n",
              "        text-align: right;\n",
              "    }\n",
              "</style>\n",
              "<table border=\"1\" class=\"dataframe\">\n",
              "  <thead>\n",
              "    <tr style=\"text-align: right;\">\n",
              "      <th></th>\n",
              "      <th>State_Name</th>\n",
              "      <th>District_Name</th>\n",
              "      <th>Crop_Year</th>\n",
              "      <th>Season</th>\n",
              "      <th>Crop</th>\n",
              "      <th>Area</th>\n",
              "      <th>Production</th>\n",
              "    </tr>\n",
              "  </thead>\n",
              "  <tbody>\n",
              "    <tr>\n",
              "      <th>0</th>\n",
              "      <td>Andaman and Nicobar Islands</td>\n",
              "      <td>NICOBARS</td>\n",
              "      <td>2000</td>\n",
              "      <td>Kharif</td>\n",
              "      <td>Arecanut</td>\n",
              "      <td>1254.0</td>\n",
              "      <td>2000.0</td>\n",
              "    </tr>\n",
              "    <tr>\n",
              "      <th>1</th>\n",
              "      <td>Andaman and Nicobar Islands</td>\n",
              "      <td>NICOBARS</td>\n",
              "      <td>2000</td>\n",
              "      <td>Kharif</td>\n",
              "      <td>Other Kharif pulses</td>\n",
              "      <td>2.0</td>\n",
              "      <td>1.0</td>\n",
              "    </tr>\n",
              "    <tr>\n",
              "      <th>2</th>\n",
              "      <td>Andaman and Nicobar Islands</td>\n",
              "      <td>NICOBARS</td>\n",
              "      <td>2000</td>\n",
              "      <td>Kharif</td>\n",
              "      <td>Rice</td>\n",
              "      <td>102.0</td>\n",
              "      <td>321.0</td>\n",
              "    </tr>\n",
              "    <tr>\n",
              "      <th>3</th>\n",
              "      <td>Andaman and Nicobar Islands</td>\n",
              "      <td>NICOBARS</td>\n",
              "      <td>2000</td>\n",
              "      <td>Whole Year</td>\n",
              "      <td>Banana</td>\n",
              "      <td>176.0</td>\n",
              "      <td>641.0</td>\n",
              "    </tr>\n",
              "    <tr>\n",
              "      <th>4</th>\n",
              "      <td>Andaman and Nicobar Islands</td>\n",
              "      <td>NICOBARS</td>\n",
              "      <td>2000</td>\n",
              "      <td>Whole Year</td>\n",
              "      <td>Cashewnut</td>\n",
              "      <td>720.0</td>\n",
              "      <td>165.0</td>\n",
              "    </tr>\n",
              "  </tbody>\n",
              "</table>\n",
              "</div>"
            ],
            "text/plain": [
              "                    State_Name District_Name  ...    Area Production\n",
              "0  Andaman and Nicobar Islands      NICOBARS  ...  1254.0     2000.0\n",
              "1  Andaman and Nicobar Islands      NICOBARS  ...     2.0        1.0\n",
              "2  Andaman and Nicobar Islands      NICOBARS  ...   102.0      321.0\n",
              "3  Andaman and Nicobar Islands      NICOBARS  ...   176.0      641.0\n",
              "4  Andaman and Nicobar Islands      NICOBARS  ...   720.0      165.0\n",
              "\n",
              "[5 rows x 7 columns]"
            ]
          },
          "metadata": {},
          "execution_count": 41
        }
      ]
    },
    {
      "cell_type": "code",
      "metadata": {
        "id": "s9rj07cpTnIg",
        "colab": {
          "base_uri": "https://localhost:8080/"
        },
        "outputId": "592419a8-c894-4521-9377-e4d1af87c631"
      },
      "source": [
        "print(df.nunique)\n",
        "df.isna().sum()   #Checking na values"
      ],
      "execution_count": null,
      "outputs": [
        {
          "output_type": "stream",
          "name": "stdout",
          "text": [
            "<bound method DataFrame.nunique of                          State_Name District_Name  ...      Area Production\n",
            "0       Andaman and Nicobar Islands      NICOBARS  ...    1254.0     2000.0\n",
            "1       Andaman and Nicobar Islands      NICOBARS  ...       2.0        1.0\n",
            "2       Andaman and Nicobar Islands      NICOBARS  ...     102.0      321.0\n",
            "3       Andaman and Nicobar Islands      NICOBARS  ...     176.0      641.0\n",
            "4       Andaman and Nicobar Islands      NICOBARS  ...     720.0      165.0\n",
            "...                             ...           ...  ...       ...        ...\n",
            "246071                  West Bengal       PURULIA  ...     306.0      801.0\n",
            "246072                  West Bengal       PURULIA  ...     627.0      463.0\n",
            "246073                  West Bengal       PURULIA  ...     324.0    16250.0\n",
            "246074                  West Bengal       PURULIA  ...  279151.0   597899.0\n",
            "246075                  West Bengal       PURULIA  ...     175.0       88.0\n",
            "\n",
            "[246076 rows x 7 columns]>\n"
          ]
        },
        {
          "output_type": "execute_result",
          "data": {
            "text/plain": [
              "State_Name       0\n",
              "District_Name    0\n",
              "Crop_Year        0\n",
              "Season           0\n",
              "Crop             0\n",
              "Area             0\n",
              "Production       0\n",
              "dtype: int64"
            ]
          },
          "metadata": {},
          "execution_count": 42
        }
      ]
    },
    {
      "cell_type": "code",
      "metadata": {
        "colab": {
          "base_uri": "https://localhost:8080/"
        },
        "id": "Pwj5soliT258",
        "outputId": "977966fe-ec03-4b59-a15d-509ea22068db"
      },
      "source": [
        "#Replacing missing values with median\n",
        "df_numeric = df.select_dtypes(include=[np.number])\n",
        "numeric_cols = df_numeric.columns.values\n",
        "for col in numeric_cols:\n",
        "    missing = df[col].isnull()\n",
        "    num_missing = np.sum(missing)\n",
        "    if num_missing > 0:  # impute values only for columns that have missing values\n",
        "        med = df[col].median() #impute with the median\n",
        "        df[col] = df[col].fillna(med)\n",
        "df.isna().sum()"
      ],
      "execution_count": null,
      "outputs": [
        {
          "output_type": "execute_result",
          "data": {
            "text/plain": [
              "State_Name       0\n",
              "District_Name    0\n",
              "Crop_Year        0\n",
              "Season           0\n",
              "Crop             0\n",
              "Area             0\n",
              "Production       0\n",
              "dtype: int64"
            ]
          },
          "metadata": {},
          "execution_count": 43
        }
      ]
    },
    {
      "cell_type": "code",
      "metadata": {
        "colab": {
          "base_uri": "https://localhost:8080/"
        },
        "id": "igsSQurkZGpw",
        "outputId": "7745c822-2ea3-4790-d8de-282789ca812f"
      },
      "source": [
        "df.describe()\n",
        "df.info()"
      ],
      "execution_count": null,
      "outputs": [
        {
          "output_type": "stream",
          "name": "stdout",
          "text": [
            "<class 'pandas.core.frame.DataFrame'>\n",
            "RangeIndex: 246076 entries, 0 to 246075\n",
            "Data columns (total 7 columns):\n",
            " #   Column         Non-Null Count   Dtype  \n",
            "---  ------         --------------   -----  \n",
            " 0   State_Name     246076 non-null  object \n",
            " 1   District_Name  246076 non-null  object \n",
            " 2   Crop_Year      246076 non-null  int64  \n",
            " 3   Season         246076 non-null  object \n",
            " 4   Crop           246076 non-null  object \n",
            " 5   Area           246076 non-null  float64\n",
            " 6   Production     246076 non-null  float64\n",
            "dtypes: float64(2), int64(1), object(4)\n",
            "memory usage: 13.1+ MB\n"
          ]
        }
      ]
    },
    {
      "cell_type": "code",
      "metadata": {
        "id": "yJ6817C8ZdbK"
      },
      "source": [
        "#px.box(df,y=\"Production\")"
      ],
      "execution_count": null,
      "outputs": []
    },
    {
      "cell_type": "code",
      "metadata": {
        "colab": {
          "base_uri": "https://localhost:8080/"
        },
        "id": "Cja9jknnaVvV",
        "outputId": "efc04936-a794-4495-dd0d-db55e16a0317"
      },
      "source": [
        "#Removing few outliers\n",
        "df = df.loc[df.Production<1001000000]\n",
        "df.info()"
      ],
      "execution_count": null,
      "outputs": [
        {
          "output_type": "stream",
          "name": "stdout",
          "text": [
            "<class 'pandas.core.frame.DataFrame'>\n",
            "Int64Index: 246076 entries, 0 to 246075\n",
            "Data columns (total 7 columns):\n",
            " #   Column         Non-Null Count   Dtype  \n",
            "---  ------         --------------   -----  \n",
            " 0   State_Name     246076 non-null  object \n",
            " 1   District_Name  246076 non-null  object \n",
            " 2   Crop_Year      246076 non-null  int64  \n",
            " 3   Season         246076 non-null  object \n",
            " 4   Crop           246076 non-null  object \n",
            " 5   Area           246076 non-null  float64\n",
            " 6   Production     246076 non-null  float64\n",
            "dtypes: float64(2), int64(1), object(4)\n",
            "memory usage: 15.0+ MB\n"
          ]
        }
      ]
    },
    {
      "cell_type": "code",
      "metadata": {
        "colab": {
          "base_uri": "https://localhost:8080/"
        },
        "id": "Z1BKR8Q2dGuj",
        "outputId": "dfff8758-55bf-4524-b777-b7e7c5e67034"
      },
      "source": [
        "#Dropping duplicates\n",
        "cols_other_than_id = list(df.columns)[1:]\n",
        "df.drop_duplicates(subset=cols_other_than_id, inplace=True)\n",
        "df.info()"
      ],
      "execution_count": null,
      "outputs": [
        {
          "output_type": "stream",
          "name": "stdout",
          "text": [
            "<class 'pandas.core.frame.DataFrame'>\n",
            "Int64Index: 246076 entries, 0 to 246075\n",
            "Data columns (total 7 columns):\n",
            " #   Column         Non-Null Count   Dtype  \n",
            "---  ------         --------------   -----  \n",
            " 0   State_Name     246076 non-null  object \n",
            " 1   District_Name  246076 non-null  object \n",
            " 2   Crop_Year      246076 non-null  int64  \n",
            " 3   Season         246076 non-null  object \n",
            " 4   Crop           246076 non-null  object \n",
            " 5   Area           246076 non-null  float64\n",
            " 6   Production     246076 non-null  float64\n",
            "dtypes: float64(2), int64(1), object(4)\n",
            "memory usage: 15.0+ MB\n"
          ]
        }
      ]
    },
    {
      "cell_type": "code",
      "metadata": {
        "colab": {
          "base_uri": "https://localhost:8080/"
        },
        "id": "bVZ-BzntfJ4c",
        "outputId": "afca5894-472c-4d9e-fda1-20dbca994f5c"
      },
      "source": [
        "df.dtypes"
      ],
      "execution_count": null,
      "outputs": [
        {
          "output_type": "execute_result",
          "data": {
            "text/plain": [
              "State_Name        object\n",
              "District_Name     object\n",
              "Crop_Year          int64\n",
              "Season            object\n",
              "Crop              object\n",
              "Area             float64\n",
              "Production       float64\n",
              "dtype: object"
            ]
          },
          "metadata": {},
          "execution_count": 48
        }
      ]
    },
    {
      "cell_type": "code",
      "metadata": {
        "colab": {
          "base_uri": "https://localhost:8080/",
          "height": 206
        },
        "id": "ZK67nDlbf97N",
        "outputId": "4ff12248-2158-46b3-d9db-690b3265c439"
      },
      "source": [
        "obj_df = df.select_dtypes(include=['object']).copy()\n",
        "obj_df.head()"
      ],
      "execution_count": null,
      "outputs": [
        {
          "output_type": "execute_result",
          "data": {
            "text/html": [
              "<div>\n",
              "<style scoped>\n",
              "    .dataframe tbody tr th:only-of-type {\n",
              "        vertical-align: middle;\n",
              "    }\n",
              "\n",
              "    .dataframe tbody tr th {\n",
              "        vertical-align: top;\n",
              "    }\n",
              "\n",
              "    .dataframe thead th {\n",
              "        text-align: right;\n",
              "    }\n",
              "</style>\n",
              "<table border=\"1\" class=\"dataframe\">\n",
              "  <thead>\n",
              "    <tr style=\"text-align: right;\">\n",
              "      <th></th>\n",
              "      <th>State_Name</th>\n",
              "      <th>District_Name</th>\n",
              "      <th>Season</th>\n",
              "      <th>Crop</th>\n",
              "    </tr>\n",
              "  </thead>\n",
              "  <tbody>\n",
              "    <tr>\n",
              "      <th>0</th>\n",
              "      <td>Andaman and Nicobar Islands</td>\n",
              "      <td>NICOBARS</td>\n",
              "      <td>Kharif</td>\n",
              "      <td>Arecanut</td>\n",
              "    </tr>\n",
              "    <tr>\n",
              "      <th>1</th>\n",
              "      <td>Andaman and Nicobar Islands</td>\n",
              "      <td>NICOBARS</td>\n",
              "      <td>Kharif</td>\n",
              "      <td>Other Kharif pulses</td>\n",
              "    </tr>\n",
              "    <tr>\n",
              "      <th>2</th>\n",
              "      <td>Andaman and Nicobar Islands</td>\n",
              "      <td>NICOBARS</td>\n",
              "      <td>Kharif</td>\n",
              "      <td>Rice</td>\n",
              "    </tr>\n",
              "    <tr>\n",
              "      <th>3</th>\n",
              "      <td>Andaman and Nicobar Islands</td>\n",
              "      <td>NICOBARS</td>\n",
              "      <td>Whole Year</td>\n",
              "      <td>Banana</td>\n",
              "    </tr>\n",
              "    <tr>\n",
              "      <th>4</th>\n",
              "      <td>Andaman and Nicobar Islands</td>\n",
              "      <td>NICOBARS</td>\n",
              "      <td>Whole Year</td>\n",
              "      <td>Cashewnut</td>\n",
              "    </tr>\n",
              "  </tbody>\n",
              "</table>\n",
              "</div>"
            ],
            "text/plain": [
              "                    State_Name District_Name       Season                 Crop\n",
              "0  Andaman and Nicobar Islands      NICOBARS  Kharif                  Arecanut\n",
              "1  Andaman and Nicobar Islands      NICOBARS  Kharif       Other Kharif pulses\n",
              "2  Andaman and Nicobar Islands      NICOBARS  Kharif                      Rice\n",
              "3  Andaman and Nicobar Islands      NICOBARS  Whole Year                Banana\n",
              "4  Andaman and Nicobar Islands      NICOBARS  Whole Year             Cashewnut"
            ]
          },
          "metadata": {},
          "execution_count": 49
        }
      ]
    },
    {
      "cell_type": "code",
      "metadata": {
        "colab": {
          "base_uri": "https://localhost:8080/"
        },
        "id": "9u0XU1tO__F_",
        "outputId": "1676a686-210e-4da5-bf90-1d9e578f8767"
      },
      "source": [
        "df.State_Name.value_counts()"
      ],
      "execution_count": null,
      "outputs": [
        {
          "output_type": "execute_result",
          "data": {
            "text/plain": [
              "Uttar Pradesh                  33297\n",
              "Madhya Pradesh                 22943\n",
              "Karnataka                      21122\n",
              "Bihar                          18885\n",
              "Assam                          14628\n",
              "Odisha                         13575\n",
              "Tamil Nadu                     13545\n",
              "Maharashtra                    12628\n",
              "Rajasthan                      12514\n",
              "Chhattisgarh                   10709\n",
              "Andhra Pradesh                  9628\n",
              "West Bengal                     9613\n",
              "Gujarat                         8436\n",
              "Haryana                         5875\n",
              "Telangana                       5649\n",
              "Uttarakhand                     4896\n",
              "Kerala                          4257\n",
              "Nagaland                        3906\n",
              "Punjab                          3173\n",
              "Meghalaya                       2867\n",
              "Arunachal Pradesh               2546\n",
              "Himachal Pradesh                2494\n",
              "Jammu and Kashmir               1634\n",
              "Tripura                         1412\n",
              "Manipur                         1267\n",
              "Jharkhand                       1266\n",
              "Mizoram                          957\n",
              "Puducherry                       876\n",
              "Sikkim                           714\n",
              "Dadra and Nagar Haveli           263\n",
              "Goa                              208\n",
              "Andaman and Nicobar Islands      203\n",
              "Chandigarh                        90\n",
              "Name: State_Name, dtype: int64"
            ]
          },
          "metadata": {},
          "execution_count": 50
        }
      ]
    },
    {
      "cell_type": "code",
      "metadata": {
        "colab": {
          "base_uri": "https://localhost:8080/"
        },
        "id": "dFwzPplO__F_",
        "outputId": "dd5aef15-9c60-4857-8d9c-3fc0d40db5fd"
      },
      "source": [
        "df.District_Name.value_counts()"
      ],
      "execution_count": null,
      "outputs": [
        {
          "output_type": "execute_result",
          "data": {
            "text/plain": [
              "BIJAPUR      945\n",
              "TUMKUR       936\n",
              "BELGAUM      925\n",
              "HASSAN       895\n",
              "BELLARY      887\n",
              "            ... \n",
              "HYDERABAD      8\n",
              "RAMGARH        6\n",
              "KHUNTI         6\n",
              "MUMBAI         1\n",
              "NAMSAI         1\n",
              "Name: District_Name, Length: 646, dtype: int64"
            ]
          },
          "metadata": {},
          "execution_count": 51
        }
      ]
    },
    {
      "cell_type": "code",
      "metadata": {
        "colab": {
          "base_uri": "https://localhost:8080/"
        },
        "id": "N1QiLZSI__GA",
        "outputId": "5fa77961-4068-47db-be36-40b8e56edfbd"
      },
      "source": [
        "df.Season.value_counts()"
      ],
      "execution_count": null,
      "outputs": [
        {
          "output_type": "execute_result",
          "data": {
            "text/plain": [
              "Kharif         95949\n",
              "Rabi           66983\n",
              "Whole Year     57299\n",
              "Summer         14838\n",
              "Winter          6058\n",
              "Autumn          4949\n",
              "Name: Season, dtype: int64"
            ]
          },
          "metadata": {},
          "execution_count": 52
        }
      ]
    },
    {
      "cell_type": "code",
      "metadata": {
        "colab": {
          "base_uri": "https://localhost:8080/"
        },
        "id": "KpL_5jNT__GA",
        "outputId": "abbccb17-9c93-4db9-eeeb-edd0b728c770"
      },
      "source": [
        "df.Crop.value_counts()"
      ],
      "execution_count": null,
      "outputs": [
        {
          "output_type": "execute_result",
          "data": {
            "text/plain": [
              "Rice                 15104\n",
              "Maize                13945\n",
              "Moong(Green Gram)    10318\n",
              "Urad                  9850\n",
              "Sesamum               9046\n",
              "                     ...  \n",
              "Plums                    6\n",
              "Litchi                   6\n",
              "Peach                    4\n",
              "Apple                    4\n",
              "Other Dry Fruit          1\n",
              "Name: Crop, Length: 124, dtype: int64"
            ]
          },
          "metadata": {},
          "execution_count": 53
        }
      ]
    },
    {
      "cell_type": "code",
      "metadata": {
        "colab": {
          "base_uri": "https://localhost:8080/"
        },
        "id": "g_mMfq_K__GA",
        "outputId": "a6a00151-56be-4197-b920-f80554b231f8"
      },
      "source": [
        "from sklearn import preprocessing\n",
        "label_encoder = preprocessing.LabelEncoder()\n",
        "print(df['State_Name'].unique())\n",
        "print(df['District_Name'].unique())\n",
        "print(df['Season'].unique())\n",
        "print(df['Crop'].unique())"
      ],
      "execution_count": null,
      "outputs": [
        {
          "output_type": "stream",
          "name": "stdout",
          "text": [
            "['Andaman and Nicobar Islands' 'Andhra Pradesh' 'Arunachal Pradesh'\n",
            " 'Assam' 'Bihar' 'Chandigarh' 'Chhattisgarh' 'Dadra and Nagar Haveli'\n",
            " 'Goa' 'Gujarat' 'Haryana' 'Himachal Pradesh' 'Jammu and Kashmir '\n",
            " 'Jharkhand' 'Karnataka' 'Kerala' 'Madhya Pradesh' 'Maharashtra' 'Manipur'\n",
            " 'Meghalaya' 'Mizoram' 'Nagaland' 'Odisha' 'Puducherry' 'Punjab'\n",
            " 'Rajasthan' 'Sikkim' 'Tamil Nadu' 'Telangana ' 'Tripura' 'Uttar Pradesh'\n",
            " 'Uttarakhand' 'West Bengal']\n",
            "['NICOBARS' 'NORTH AND MIDDLE ANDAMAN' 'SOUTH ANDAMANS' 'ANANTAPUR'\n",
            " 'CHITTOOR' 'EAST GODAVARI' 'GUNTUR' 'KADAPA' 'KRISHNA' 'KURNOOL'\n",
            " 'PRAKASAM' 'SPSR NELLORE' 'SRIKAKULAM' 'VISAKHAPATANAM' 'VIZIANAGARAM'\n",
            " 'WEST GODAVARI' 'ANJAW' 'CHANGLANG' 'DIBANG VALLEY' 'EAST KAMENG'\n",
            " 'EAST SIANG' 'KURUNG KUMEY' 'LOHIT' 'LONGDING' 'LOWER DIBANG VALLEY'\n",
            " 'LOWER SUBANSIRI' 'NAMSAI' 'PAPUM PARE' 'TAWANG' 'TIRAP' 'UPPER SIANG'\n",
            " 'UPPER SUBANSIRI' 'WEST KAMENG' 'WEST SIANG' 'BAKSA' 'BARPETA'\n",
            " 'BONGAIGAON' 'CACHAR' 'CHIRANG' 'DARRANG' 'DHEMAJI' 'DHUBRI' 'DIBRUGARH'\n",
            " 'DIMA HASAO' 'GOALPARA' 'GOLAGHAT' 'HAILAKANDI' 'JORHAT' 'KAMRUP'\n",
            " 'KAMRUP METRO' 'KARBI ANGLONG' 'KARIMGANJ' 'KOKRAJHAR' 'LAKHIMPUR'\n",
            " 'MARIGAON' 'NAGAON' 'NALBARI' 'SIVASAGAR' 'SONITPUR' 'TINSUKIA'\n",
            " 'UDALGURI' 'ARARIA' 'ARWAL' 'AURANGABAD' 'BANKA' 'BEGUSARAI' 'BHAGALPUR'\n",
            " 'BHOJPUR' 'BUXAR' 'DARBHANGA' 'GAYA' 'GOPALGANJ' 'JAMUI' 'JEHANABAD'\n",
            " 'KAIMUR (BHABUA)' 'KATIHAR' 'KHAGARIA' 'KISHANGANJ' 'LAKHISARAI'\n",
            " 'MADHEPURA' 'MADHUBANI' 'MUNGER' 'MUZAFFARPUR' 'NALANDA' 'NAWADA'\n",
            " 'PASHCHIM CHAMPARAN' 'PATNA' 'PURBI CHAMPARAN' 'PURNIA' 'ROHTAS'\n",
            " 'SAHARSA' 'SAMASTIPUR' 'SARAN' 'SHEIKHPURA' 'SHEOHAR' 'SITAMARHI' 'SIWAN'\n",
            " 'SUPAUL' 'VAISHALI' 'CHANDIGARH' 'BALOD' 'BALODA BAZAR' 'BALRAMPUR'\n",
            " 'BASTAR' 'BEMETARA' 'BIJAPUR' 'BILASPUR' 'DANTEWADA' 'DHAMTARI' 'DURG'\n",
            " 'GARIYABAND' 'JANJGIR-CHAMPA' 'JASHPUR' 'KABIRDHAM' 'KANKER' 'KONDAGAON'\n",
            " 'KORBA' 'KOREA' 'MAHASAMUND' 'MUNGELI' 'NARAYANPUR' 'RAIGARH' 'RAIPUR'\n",
            " 'RAJNANDGAON' 'SUKMA' 'SURAJPUR' 'SURGUJA' 'DADRA AND NAGAR HAVELI'\n",
            " 'NORTH GOA' 'SOUTH GOA' 'AHMADABAD' 'AMRELI' 'ANAND' 'BANAS KANTHA'\n",
            " 'BHARUCH' 'BHAVNAGAR' 'DANG' 'DOHAD' 'GANDHINAGAR' 'JAMNAGAR' 'JUNAGADH'\n",
            " 'KACHCHH' 'KHEDA' 'MAHESANA' 'NARMADA' 'NAVSARI' 'PANCH MAHALS' 'PATAN'\n",
            " 'PORBANDAR' 'RAJKOT' 'SABAR KANTHA' 'SURAT' 'SURENDRANAGAR' 'TAPI'\n",
            " 'VADODARA' 'VALSAD' 'AMBALA' 'BHIWANI' 'FARIDABAD' 'FATEHABAD' 'GURGAON'\n",
            " 'HISAR' 'JHAJJAR' 'JIND' 'KAITHAL' 'KARNAL' 'KURUKSHETRA' 'MAHENDRAGARH'\n",
            " 'MEWAT' 'PALWAL' 'PANCHKULA' 'PANIPAT' 'REWARI' 'ROHTAK' 'SIRSA'\n",
            " 'SONIPAT' 'YAMUNANAGAR' 'CHAMBA' 'HAMIRPUR' 'KANGRA' 'KINNAUR' 'KULLU'\n",
            " 'LAHUL AND SPITI' 'MANDI' 'SHIMLA' 'SIRMAUR' 'SOLAN' 'UNA' 'ANANTNAG'\n",
            " 'BADGAM' 'BANDIPORA' 'BARAMULLA' 'DODA' 'GANDERBAL' 'JAMMU' 'KARGIL'\n",
            " 'KATHUA' 'KISHTWAR' 'KULGAM' 'KUPWARA' 'LEH LADAKH' 'POONCH' 'PULWAMA'\n",
            " 'RAJAURI' 'RAMBAN' 'REASI' 'SAMBA' 'SHOPIAN' 'SRINAGAR' 'UDHAMPUR'\n",
            " 'BOKARO' 'CHATRA' 'DEOGHAR' 'DHANBAD' 'DUMKA' 'EAST SINGHBUM' 'GARHWA'\n",
            " 'GIRIDIH' 'GODDA' 'GUMLA' 'HAZARIBAGH' 'JAMTARA' 'KHUNTI' 'KODERMA'\n",
            " 'LATEHAR' 'LOHARDAGA' 'PAKUR' 'PALAMU' 'RAMGARH' 'RANCHI' 'SAHEBGANJ'\n",
            " 'SARAIKELA KHARSAWAN' 'SIMDEGA' 'WEST SINGHBHUM' 'BAGALKOT'\n",
            " 'BANGALORE RURAL' 'BELGAUM' 'BELLARY' 'BENGALURU URBAN' 'BIDAR'\n",
            " 'CHAMARAJANAGAR' 'CHIKBALLAPUR' 'CHIKMAGALUR' 'CHITRADURGA'\n",
            " 'DAKSHIN KANNAD' 'DAVANGERE' 'DHARWAD' 'GADAG' 'GULBARGA' 'HASSAN'\n",
            " 'HAVERI' 'KODAGU' 'KOLAR' 'KOPPAL' 'MANDYA' 'MYSORE' 'RAICHUR'\n",
            " 'RAMANAGARA' 'SHIMOGA' 'TUMKUR' 'UDUPI' 'UTTAR KANNAD' 'YADGIR'\n",
            " 'ALAPPUZHA' 'ERNAKULAM' 'IDUKKI' 'KANNUR' 'KASARAGOD' 'KOLLAM' 'KOTTAYAM'\n",
            " 'KOZHIKODE' 'MALAPPURAM' 'PALAKKAD' 'PATHANAMTHITTA' 'THIRUVANANTHAPURAM'\n",
            " 'THRISSUR' 'WAYANAD' 'AGAR MALWA' 'ALIRAJPUR' 'ANUPPUR' 'ASHOKNAGAR'\n",
            " 'BALAGHAT' 'BARWANI' 'BETUL' 'BHIND' 'BHOPAL' 'BURHANPUR' 'CHHATARPUR'\n",
            " 'CHHINDWARA' 'DAMOH' 'DATIA' 'DEWAS' 'DHAR' 'DINDORI' 'GUNA' 'GWALIOR'\n",
            " 'HARDA' 'HOSHANGABAD' 'INDORE' 'JABALPUR' 'JHABUA' 'KATNI' 'KHANDWA'\n",
            " 'KHARGONE' 'MANDLA' 'MANDSAUR' 'MORENA' 'NARSINGHPUR' 'NEEMUCH' 'PANNA'\n",
            " 'RAISEN' 'RAJGARH' 'RATLAM' 'REWA' 'SAGAR' 'SATNA' 'SEHORE' 'SEONI'\n",
            " 'SHAHDOL' 'SHAJAPUR' 'SHEOPUR' 'SHIVPURI' 'SIDHI' 'SINGRAULI' 'TIKAMGARH'\n",
            " 'UJJAIN' 'UMARIA' 'VIDISHA' 'AHMEDNAGAR' 'AKOLA' 'AMRAVATI' 'BEED'\n",
            " 'BHANDARA' 'BULDHANA' 'CHANDRAPUR' 'DHULE' 'GADCHIROLI' 'GONDIA'\n",
            " 'HINGOLI' 'JALGAON' 'JALNA' 'KOLHAPUR' 'LATUR' 'MUMBAI' 'NAGPUR' 'NANDED'\n",
            " 'NANDURBAR' 'NASHIK' 'OSMANABAD' 'PALGHAR' 'PARBHANI' 'PUNE' 'RAIGAD'\n",
            " 'RATNAGIRI' 'SANGLI' 'SATARA' 'SINDHUDURG' 'SOLAPUR' 'THANE' 'WARDHA'\n",
            " 'WASHIM' 'YAVATMAL' 'BISHNUPUR' 'CHANDEL' 'CHURACHANDPUR' 'IMPHAL EAST'\n",
            " 'IMPHAL WEST' 'SENAPATI' 'TAMENGLONG' 'THOUBAL' 'UKHRUL'\n",
            " 'EAST GARO HILLS' 'EAST JAINTIA HILLS' 'EAST KHASI HILLS'\n",
            " 'NORTH GARO HILLS' 'RI BHOI' 'SOUTH GARO HILLS' 'SOUTH WEST GARO HILLS'\n",
            " 'SOUTH WEST KHASI HILLS' 'WEST GARO HILLS' 'WEST JAINTIA HILLS'\n",
            " 'WEST KHASI HILLS' 'AIZAWL' 'CHAMPHAI' 'KOLASIB' 'LAWNGTLAI' 'LUNGLEI'\n",
            " 'MAMIT' 'SAIHA' 'SERCHHIP' 'DIMAPUR' 'KIPHIRE' 'KOHIMA' 'LONGLENG'\n",
            " 'MOKOKCHUNG' 'MON' 'PEREN' 'PHEK' 'TUENSANG' 'WOKHA' 'ZUNHEBOTO' 'ANUGUL'\n",
            " 'BALANGIR' 'BALESHWAR' 'BARGARH' 'BHADRAK' 'BOUDH' 'CUTTACK' 'DEOGARH'\n",
            " 'DHENKANAL' 'GAJAPATI' 'GANJAM' 'JAGATSINGHAPUR' 'JAJAPUR' 'JHARSUGUDA'\n",
            " 'KALAHANDI' 'KANDHAMAL' 'KENDRAPARA' 'KENDUJHAR' 'KHORDHA' 'KORAPUT'\n",
            " 'MALKANGIRI' 'MAYURBHANJ' 'NABARANGPUR' 'NAYAGARH' 'NUAPADA' 'PURI'\n",
            " 'RAYAGADA' 'SAMBALPUR' 'SONEPUR' 'SUNDARGARH' 'KARAIKAL' 'MAHE'\n",
            " 'PONDICHERRY' 'YANAM' 'AMRITSAR' 'BARNALA' 'BATHINDA' 'FARIDKOT'\n",
            " 'FATEHGARH SAHIB' 'FAZILKA' 'FIROZEPUR' 'GURDASPUR' 'HOSHIARPUR'\n",
            " 'JALANDHAR' 'KAPURTHALA' 'LUDHIANA' 'MANSA' 'MOGA' 'MUKTSAR' 'NAWANSHAHR'\n",
            " 'PATHANKOT' 'PATIALA' 'RUPNAGAR' 'S.A.S NAGAR' 'SANGRUR' 'TARN TARAN'\n",
            " 'AJMER' 'ALWAR' 'BANSWARA' 'BARAN' 'BARMER' 'BHARATPUR' 'BHILWARA'\n",
            " 'BIKANER' 'BUNDI' 'CHITTORGARH' 'CHURU' 'DAUSA' 'DHOLPUR' 'DUNGARPUR'\n",
            " 'GANGANAGAR' 'HANUMANGARH' 'JAIPUR' 'JAISALMER' 'JALORE' 'JHALAWAR'\n",
            " 'JHUNJHUNU' 'JODHPUR' 'KARAULI' 'KOTA' 'NAGAUR' 'PALI' 'PRATAPGARH'\n",
            " 'RAJSAMAND' 'SAWAI MADHOPUR' 'SIKAR' 'SIROHI' 'TONK' 'UDAIPUR'\n",
            " 'EAST DISTRICT' 'NORTH DISTRICT' 'SOUTH DISTRICT' 'WEST DISTRICT'\n",
            " 'ARIYALUR' 'COIMBATORE' 'CUDDALORE' 'DHARMAPURI' 'DINDIGUL' 'ERODE'\n",
            " 'KANCHIPURAM' 'KANNIYAKUMARI' 'KARUR' 'KRISHNAGIRI' 'MADURAI'\n",
            " 'NAGAPATTINAM' 'NAMAKKAL' 'PERAMBALUR' 'PUDUKKOTTAI' 'RAMANATHAPURAM'\n",
            " 'SALEM' 'SIVAGANGA' 'THANJAVUR' 'THE NILGIRIS' 'THENI' 'THIRUVALLUR'\n",
            " 'THIRUVARUR' 'TIRUCHIRAPPALLI' 'TIRUNELVELI' 'TIRUPPUR' 'TIRUVANNAMALAI'\n",
            " 'TUTICORIN' 'VELLORE' 'VILLUPURAM' 'VIRUDHUNAGAR' 'ADILABAD' 'HYDERABAD'\n",
            " 'KARIMNAGAR' 'KHAMMAM' 'MAHBUBNAGAR' 'MEDAK' 'NALGONDA' 'NIZAMABAD'\n",
            " 'RANGAREDDI' 'WARANGAL' 'DHALAI' 'GOMATI' 'KHOWAI' 'NORTH TRIPURA'\n",
            " 'SEPAHIJALA' 'SOUTH TRIPURA' 'UNAKOTI' 'WEST TRIPURA' 'AGRA' 'ALIGARH'\n",
            " 'ALLAHABAD' 'AMBEDKAR NAGAR' 'AMETHI' 'AMROHA' 'AURAIYA' 'AZAMGARH'\n",
            " 'BAGHPAT' 'BAHRAICH' 'BALLIA' 'BANDA' 'BARABANKI' 'BAREILLY' 'BASTI'\n",
            " 'BIJNOR' 'BUDAUN' 'BULANDSHAHR' 'CHANDAULI' 'CHITRAKOOT' 'DEORIA' 'ETAH'\n",
            " 'ETAWAH' 'FAIZABAD' 'FARRUKHABAD' 'FATEHPUR' 'FIROZABAD'\n",
            " 'GAUTAM BUDDHA NAGAR' 'GHAZIABAD' 'GHAZIPUR' 'GONDA' 'GORAKHPUR' 'HAPUR'\n",
            " 'HARDOI' 'HATHRAS' 'JALAUN' 'JAUNPUR' 'JHANSI' 'KANNAUJ' 'KANPUR DEHAT'\n",
            " 'KANPUR NAGAR' 'KASGANJ' 'KAUSHAMBI' 'KHERI' 'KUSHI NAGAR' 'LALITPUR'\n",
            " 'LUCKNOW' 'MAHARAJGANJ' 'MAHOBA' 'MAINPURI' 'MATHURA' 'MAU' 'MEERUT'\n",
            " 'MIRZAPUR' 'MORADABAD' 'MUZAFFARNAGAR' 'PILIBHIT' 'RAE BARELI' 'RAMPUR'\n",
            " 'SAHARANPUR' 'SAMBHAL' 'SANT KABEER NAGAR' 'SANT RAVIDAS NAGAR'\n",
            " 'SHAHJAHANPUR' 'SHAMLI' 'SHRAVASTI' 'SIDDHARTH NAGAR' 'SITAPUR'\n",
            " 'SONBHADRA' 'SULTANPUR' 'UNNAO' 'VARANASI' 'ALMORA' 'BAGESHWAR' 'CHAMOLI'\n",
            " 'CHAMPAWAT' 'DEHRADUN' 'HARIDWAR' 'NAINITAL' 'PAURI GARHWAL'\n",
            " 'PITHORAGARH' 'RUDRA PRAYAG' 'TEHRI GARHWAL' 'UDAM SINGH NAGAR'\n",
            " 'UTTAR KASHI' '24 PARAGANAS NORTH' '24 PARAGANAS SOUTH' 'BANKURA'\n",
            " 'BARDHAMAN' 'BIRBHUM' 'COOCHBEHAR' 'DARJEELING' 'DINAJPUR DAKSHIN'\n",
            " 'DINAJPUR UTTAR' 'HOOGHLY' 'HOWRAH' 'JALPAIGURI' 'MALDAH'\n",
            " 'MEDINIPUR EAST' 'MEDINIPUR WEST' 'MURSHIDABAD' 'NADIA' 'PURULIA']\n",
            "['Kharif     ' 'Whole Year ' 'Autumn     ' 'Rabi       ' 'Summer     '\n",
            " 'Winter     ']\n",
            "['Arecanut' 'Other Kharif pulses' 'Rice' 'Banana' 'Cashewnut' 'Coconut '\n",
            " 'Dry ginger' 'Sugarcane' 'Sweet potato' 'Tapioca' 'Black pepper'\n",
            " 'Dry chillies' 'other oilseeds' 'Turmeric' 'Maize' 'Moong(Green Gram)'\n",
            " 'Urad' 'Arhar/Tur' 'Groundnut' 'Sunflower' 'Bajra' 'Castor seed'\n",
            " 'Cotton(lint)' 'Horse-gram' 'Jowar' 'Korra' 'Ragi' 'Tobacco' 'Gram'\n",
            " 'Wheat' 'Masoor' 'Sesamum' 'Linseed' 'Safflower' 'Onion'\n",
            " 'other misc. pulses' 'Samai' 'Small millets' 'Coriander' 'Potato'\n",
            " 'Other  Rabi pulses' 'Soyabean' 'Beans & Mutter(Vegetable)' 'Bhindi'\n",
            " 'Brinjal' 'Citrus Fruit' 'Cucumber' 'Grapes' 'Mango' 'Orange'\n",
            " 'other fibres' 'Other Fresh Fruits' 'Other Vegetables' 'Papaya'\n",
            " 'Pome Fruit' 'Tomato' 'Rapeseed &Mustard' 'Mesta' 'Cowpea(Lobia)' 'Lemon'\n",
            " 'Pome Granet' 'Sapota' 'Cabbage' 'Peas  (vegetable)' 'Niger seed'\n",
            " 'Bottle Gourd' 'Sannhamp' 'Varagu' 'Garlic' 'Ginger' 'Oilseeds total'\n",
            " 'Pulses total' 'Jute' 'Peas & beans (Pulses)' 'Blackgram' 'Paddy'\n",
            " 'Pineapple' 'Barley' 'Khesari' 'Guar seed' 'Moth'\n",
            " 'Other Cereals & Millets' 'Cond-spcs other' 'Turnip' 'Carrot' 'Redish'\n",
            " 'Arcanut (Processed)' 'Atcanut (Raw)' 'Cashewnut Processed'\n",
            " 'Cashewnut Raw' 'Cardamom' 'Rubber' 'Bitter Gourd' 'Drum Stick'\n",
            " 'Jack Fruit' 'Snak Guard' 'Pump Kin' 'Tea' 'Coffee' 'Cauliflower'\n",
            " 'Other Citrus Fruit' 'Water Melon' 'Total foodgrain' 'Kapas' 'Colocosia'\n",
            " 'Lentil' 'Bean' 'Jobster' 'Perilla' 'Rajmash Kholar' 'Ricebean (nagadal)'\n",
            " 'Ash Gourd' 'Beet Root' 'Lab-Lab' 'Ribed Guard' 'Yam' 'Apple' 'Peach'\n",
            " 'Pear' 'Plums' 'Litchi' 'Ber' 'Other Dry Fruit' 'Jute & mesta']\n"
          ]
        }
      ]
    },
    {
      "cell_type": "code",
      "metadata": {
        "colab": {
          "base_uri": "https://localhost:8080/"
        },
        "id": "NiR2kaCF__GB",
        "outputId": "1a93c01a-905d-45c8-d687-dd1481562cda"
      },
      "source": [
        "# Encode labels in label columns\n",
        "df['State_Name']= label_encoder.fit_transform(df['State_Name'])\n",
        "df.State_Name.value_counts()"
      ],
      "execution_count": null,
      "outputs": [
        {
          "output_type": "execute_result",
          "data": {
            "text/plain": [
              "30    33297\n",
              "16    22943\n",
              "14    21122\n",
              "4     18885\n",
              "3     14628\n",
              "22    13575\n",
              "27    13545\n",
              "17    12628\n",
              "25    12514\n",
              "6     10709\n",
              "1      9628\n",
              "32     9613\n",
              "9      8436\n",
              "10     5875\n",
              "28     5649\n",
              "31     4896\n",
              "15     4257\n",
              "21     3906\n",
              "24     3173\n",
              "19     2867\n",
              "2      2546\n",
              "11     2494\n",
              "12     1634\n",
              "29     1412\n",
              "18     1267\n",
              "13     1266\n",
              "20      957\n",
              "23      876\n",
              "26      714\n",
              "7       263\n",
              "8       208\n",
              "0       203\n",
              "5        90\n",
              "Name: State_Name, dtype: int64"
            ]
          },
          "metadata": {},
          "execution_count": 55
        }
      ]
    },
    {
      "cell_type": "code",
      "metadata": {
        "id": "982_TVeF__GB"
      },
      "source": [
        "df['District_Name']= label_encoder.fit_transform(df['District_Name'])\n",
        "df['Season']= label_encoder.fit_transform(df['Season'])\n",
        "df['Crop']= label_encoder.fit_transform(df['Crop'])"
      ],
      "execution_count": null,
      "outputs": []
    },
    {
      "cell_type": "code",
      "metadata": {
        "id": "V039RjCu__GB"
      },
      "source": [
        "a=df.head(10000)"
      ],
      "execution_count": null,
      "outputs": []
    },
    {
      "cell_type": "code",
      "metadata": {
        "colab": {
          "base_uri": "https://localhost:8080/",
          "height": 423
        },
        "id": "RGob-9op__GB",
        "outputId": "39a8f458-7fab-4776-bdd8-37ec4dcfa145"
      },
      "source": [
        "a"
      ],
      "execution_count": null,
      "outputs": [
        {
          "output_type": "execute_result",
          "data": {
            "text/html": [
              "<div>\n",
              "<style scoped>\n",
              "    .dataframe tbody tr th:only-of-type {\n",
              "        vertical-align: middle;\n",
              "    }\n",
              "\n",
              "    .dataframe tbody tr th {\n",
              "        vertical-align: top;\n",
              "    }\n",
              "\n",
              "    .dataframe thead th {\n",
              "        text-align: right;\n",
              "    }\n",
              "</style>\n",
              "<table border=\"1\" class=\"dataframe\">\n",
              "  <thead>\n",
              "    <tr style=\"text-align: right;\">\n",
              "      <th></th>\n",
              "      <th>State_Name</th>\n",
              "      <th>District_Name</th>\n",
              "      <th>Crop_Year</th>\n",
              "      <th>Season</th>\n",
              "      <th>Crop</th>\n",
              "      <th>Area</th>\n",
              "      <th>Production</th>\n",
              "    </tr>\n",
              "  </thead>\n",
              "  <tbody>\n",
              "    <tr>\n",
              "      <th>0</th>\n",
              "      <td>0</td>\n",
              "      <td>427</td>\n",
              "      <td>2000</td>\n",
              "      <td>1</td>\n",
              "      <td>2</td>\n",
              "      <td>1254.0</td>\n",
              "      <td>2000.0</td>\n",
              "    </tr>\n",
              "    <tr>\n",
              "      <th>1</th>\n",
              "      <td>0</td>\n",
              "      <td>427</td>\n",
              "      <td>2000</td>\n",
              "      <td>1</td>\n",
              "      <td>74</td>\n",
              "      <td>2.0</td>\n",
              "      <td>1.0</td>\n",
              "    </tr>\n",
              "    <tr>\n",
              "      <th>2</th>\n",
              "      <td>0</td>\n",
              "      <td>427</td>\n",
              "      <td>2000</td>\n",
              "      <td>1</td>\n",
              "      <td>95</td>\n",
              "      <td>102.0</td>\n",
              "      <td>321.0</td>\n",
              "    </tr>\n",
              "    <tr>\n",
              "      <th>3</th>\n",
              "      <td>0</td>\n",
              "      <td>427</td>\n",
              "      <td>2000</td>\n",
              "      <td>4</td>\n",
              "      <td>7</td>\n",
              "      <td>176.0</td>\n",
              "      <td>641.0</td>\n",
              "    </tr>\n",
              "    <tr>\n",
              "      <th>4</th>\n",
              "      <td>0</td>\n",
              "      <td>427</td>\n",
              "      <td>2000</td>\n",
              "      <td>4</td>\n",
              "      <td>22</td>\n",
              "      <td>720.0</td>\n",
              "      <td>165.0</td>\n",
              "    </tr>\n",
              "    <tr>\n",
              "      <th>...</th>\n",
              "      <td>...</td>\n",
              "      <td>...</td>\n",
              "      <td>...</td>\n",
              "      <td>...</td>\n",
              "      <td>...</td>\n",
              "      <td>...</td>\n",
              "      <td>...</td>\n",
              "    </tr>\n",
              "    <tr>\n",
              "      <th>9995</th>\n",
              "      <td>2</td>\n",
              "      <td>113</td>\n",
              "      <td>2002</td>\n",
              "      <td>2</td>\n",
              "      <td>119</td>\n",
              "      <td>200.0</td>\n",
              "      <td>320.0</td>\n",
              "    </tr>\n",
              "    <tr>\n",
              "      <th>9996</th>\n",
              "      <td>2</td>\n",
              "      <td>113</td>\n",
              "      <td>2002</td>\n",
              "      <td>4</td>\n",
              "      <td>37</td>\n",
              "      <td>320.0</td>\n",
              "      <td>480.0</td>\n",
              "    </tr>\n",
              "    <tr>\n",
              "      <th>9997</th>\n",
              "      <td>2</td>\n",
              "      <td>113</td>\n",
              "      <td>2002</td>\n",
              "      <td>4</td>\n",
              "      <td>38</td>\n",
              "      <td>450.0</td>\n",
              "      <td>2475.0</td>\n",
              "    </tr>\n",
              "    <tr>\n",
              "      <th>9998</th>\n",
              "      <td>2</td>\n",
              "      <td>113</td>\n",
              "      <td>2002</td>\n",
              "      <td>4</td>\n",
              "      <td>66</td>\n",
              "      <td>3500.0</td>\n",
              "      <td>2887.0</td>\n",
              "    </tr>\n",
              "    <tr>\n",
              "      <th>9999</th>\n",
              "      <td>2</td>\n",
              "      <td>113</td>\n",
              "      <td>2002</td>\n",
              "      <td>4</td>\n",
              "      <td>87</td>\n",
              "      <td>50.0</td>\n",
              "      <td>290.0</td>\n",
              "    </tr>\n",
              "  </tbody>\n",
              "</table>\n",
              "<p>10000 rows × 7 columns</p>\n",
              "</div>"
            ],
            "text/plain": [
              "      State_Name  District_Name  Crop_Year  Season  Crop    Area  Production\n",
              "0              0            427       2000       1     2  1254.0      2000.0\n",
              "1              0            427       2000       1    74     2.0         1.0\n",
              "2              0            427       2000       1    95   102.0       321.0\n",
              "3              0            427       2000       4     7   176.0       641.0\n",
              "4              0            427       2000       4    22   720.0       165.0\n",
              "...          ...            ...        ...     ...   ...     ...         ...\n",
              "9995           2            113       2002       2   119   200.0       320.0\n",
              "9996           2            113       2002       4    37   320.0       480.0\n",
              "9997           2            113       2002       4    38   450.0      2475.0\n",
              "9998           2            113       2002       4    66  3500.0      2887.0\n",
              "9999           2            113       2002       4    87    50.0       290.0\n",
              "\n",
              "[10000 rows x 7 columns]"
            ]
          },
          "metadata": {},
          "execution_count": 58
        }
      ]
    },
    {
      "cell_type": "code",
      "metadata": {
        "colab": {
          "base_uri": "https://localhost:8080/"
        },
        "id": "nAT9V-rRd1GX",
        "outputId": "c233d363-e383-4528-cff9-3f74f72ea834"
      },
      "source": [
        "x=a.iloc[:,:-1].values\n",
        "y=a.iloc[:,-1].values\n",
        "x"
      ],
      "execution_count": null,
      "outputs": [
        {
          "output_type": "execute_result",
          "data": {
            "text/plain": [
              "array([[0.000e+00, 4.270e+02, 2.000e+03, 1.000e+00, 2.000e+00, 1.254e+03],\n",
              "       [0.000e+00, 4.270e+02, 2.000e+03, 1.000e+00, 7.400e+01, 2.000e+00],\n",
              "       [0.000e+00, 4.270e+02, 2.000e+03, 1.000e+00, 9.500e+01, 1.020e+02],\n",
              "       ...,\n",
              "       [2.000e+00, 1.130e+02, 2.002e+03, 4.000e+00, 3.800e+01, 4.500e+02],\n",
              "       [2.000e+00, 1.130e+02, 2.002e+03, 4.000e+00, 6.600e+01, 3.500e+03],\n",
              "       [2.000e+00, 1.130e+02, 2.002e+03, 4.000e+00, 8.700e+01, 5.000e+01]])"
            ]
          },
          "metadata": {},
          "execution_count": 59
        }
      ]
    },
    {
      "cell_type": "code",
      "metadata": {
        "id": "j4DF8yvy__GC"
      },
      "source": [
        "#y"
      ],
      "execution_count": null,
      "outputs": []
    },
    {
      "cell_type": "code",
      "metadata": {
        "id": "gPHtKTGH__GC"
      },
      "source": [
        "from sklearn.model_selection import train_test_split\n",
        "train_x, test_x, train_y, test_y = train_test_split(x,y, test_size=0.2, random_state=10)"
      ],
      "execution_count": null,
      "outputs": []
    },
    {
      "cell_type": "code",
      "metadata": {
        "colab": {
          "base_uri": "https://localhost:8080/"
        },
        "id": "Q6t4yweY__GC",
        "outputId": "ba9e5c0d-c441-456e-bf70-1d6d4275d4d1"
      },
      "source": [
        "train_x"
      ],
      "execution_count": null,
      "outputs": [
        {
          "output_type": "execute_result",
          "data": {
            "text/plain": [
              "array([[1.000e+00, 5.670e+02, 2.010e+03, 2.000e+00, 3.700e+01, 2.811e+03],\n",
              "       [1.000e+00, 5.670e+02, 2.014e+03, 2.000e+00, 1.070e+02, 1.170e+03],\n",
              "       [1.000e+00, 6.260e+02, 2.014e+03, 2.000e+00, 1.120e+02, 5.500e+02],\n",
              "       ...,\n",
              "       [1.000e+00, 1.220e+02, 2.005e+03, 1.000e+00, 1.160e+02, 2.120e+02],\n",
              "       [1.000e+00, 5.670e+02, 2.004e+03, 2.000e+00, 6.700e+01, 1.248e+03],\n",
              "       [1.000e+00, 1.220e+02, 2.004e+03, 1.000e+00, 4.800e+01, 2.659e+03]])"
            ]
          },
          "metadata": {},
          "execution_count": 62
        }
      ]
    },
    {
      "cell_type": "code",
      "metadata": {
        "id": "sqF5F6ay__GC"
      },
      "source": [
        "#train_y"
      ],
      "execution_count": null,
      "outputs": []
    },
    {
      "cell_type": "code",
      "metadata": {
        "colab": {
          "base_uri": "https://localhost:8080/"
        },
        "id": "qoFXpaEW__GD",
        "outputId": "3ad5a8ab-fcc7-4374-ce72-6e482b88b60d"
      },
      "source": [
        "test_x"
      ],
      "execution_count": null,
      "outputs": [
        {
          "output_type": "execute_result",
          "data": {
            "text/plain": [
              "array([[1.0000e+00, 2.4000e+01, 2.0140e+03, 1.0000e+00, 4.2000e+01,\n",
              "        3.0900e+02],\n",
              "       [1.0000e+00, 6.3300e+02, 2.0010e+03, 1.0000e+00, 4.3000e+01,\n",
              "        6.7000e+02],\n",
              "       [1.0000e+00, 1.7200e+02, 2.0090e+03, 2.0000e+00, 1.0200e+02,\n",
              "        1.5640e+03],\n",
              "       ...,\n",
              "       [1.0000e+00, 2.4000e+01, 2.0140e+03, 2.0000e+00, 1.1200e+02,\n",
              "        4.1910e+03],\n",
              "       [1.0000e+00, 4.6300e+02, 2.0120e+03, 1.0000e+00, 3.7000e+01,\n",
              "        1.7409e+04],\n",
              "       [1.0000e+00, 1.7200e+02, 2.0040e+03, 2.0000e+00, 4.3000e+01,\n",
              "        4.3400e+02]])"
            ]
          },
          "metadata": {},
          "execution_count": 64
        }
      ]
    },
    {
      "cell_type": "code",
      "metadata": {
        "id": "b9nkCEkBK4D0"
      },
      "source": [
        "from sklearn.preprocessing import MinMaxScaler"
      ],
      "execution_count": null,
      "outputs": []
    },
    {
      "cell_type": "code",
      "metadata": {
        "id": "69w0KJ5FK494"
      },
      "source": [
        "trans = MinMaxScaler()\n",
        "scale_train_x = trans.fit_transform(train_x)\n",
        "scale_test_x=trans.transform(test_x)"
      ],
      "execution_count": null,
      "outputs": []
    },
    {
      "cell_type": "code",
      "metadata": {
        "colab": {
          "base_uri": "https://localhost:8080/"
        },
        "id": "VyG9O6kaLJn8",
        "outputId": "3bad252c-6d6d-415c-c419-985e1ea25c6c"
      },
      "source": [
        "scale_train_x"
      ],
      "execution_count": null,
      "outputs": [
        {
          "output_type": "execute_result",
          "data": {
            "text/plain": [
              "array([[5.00000000e-01, 8.91625616e-01, 7.64705882e-01, 5.00000000e-01,\n",
              "        2.89256198e-01, 3.20400261e-03],\n",
              "       [5.00000000e-01, 8.91625616e-01, 1.00000000e+00, 5.00000000e-01,\n",
              "        8.67768595e-01, 1.33291069e-03],\n",
              "       [5.00000000e-01, 9.88505747e-01, 1.00000000e+00, 5.00000000e-01,\n",
              "        9.09090909e-01, 6.25977734e-04],\n",
              "       ...,\n",
              "       [5.00000000e-01, 1.60919540e-01, 4.70588235e-01, 2.50000000e-01,\n",
              "        9.42148760e-01, 2.40585249e-04],\n",
              "       [5.00000000e-01, 8.91625616e-01, 4.11764706e-01, 5.00000000e-01,\n",
              "        5.37190083e-01, 1.42184742e-03],\n",
              "       [5.00000000e-01, 1.60919540e-01, 4.11764706e-01, 2.50000000e-01,\n",
              "        3.80165289e-01, 3.03069001e-03]])"
            ]
          },
          "metadata": {},
          "execution_count": 68
        }
      ]
    },
    {
      "cell_type": "code",
      "metadata": {
        "id": "S7S3Ean2IatG",
        "colab": {
          "base_uri": "https://localhost:8080/"
        },
        "outputId": "89a3d00b-9f6a-4d64-a260-3c16df973418"
      },
      "source": [
        "import time\n",
        "def euc_dist(sn,dn,yr,s,c,a):\n",
        "    dist=[]\n",
        "    for i in range(0,len(train_x)):\n",
        "        d=0\n",
        "        d=math.sqrt((sn-train_x[i][0])**2+(dn-train_x[i][1])**2+(yr-train_x[i][2])**2+(s-train_x[i][3])**2+(c-train_x[i][4])**2+(a-train_x[i][5])**2)\n",
        "        #d=(sn-train_x[i-1:i]['State_Name'])**2+(dn-train_x[i-1:i]['District_Name'])**2+(yr-train_x[i-1:i]['Crop_Year'])**2+(s-train_x[i-1:i]['Season'])**2+(c-train_x[i-1:i]['Crop'])**2+(a-train_x[i-1:i]['Area'])**2\n",
        "        dist.append(d)\n",
        "    return dist\n",
        "\n",
        "def kmin(dist):\n",
        "    mindist=[]\n",
        "    minind=[]\n",
        "    for k in range(0,2):\n",
        "        mindist.append(min(dist))\n",
        "        ind=dist.index(min(dist))\n",
        "        minind.append(dist.index(min(dist)))\n",
        "        dist[ind]=1000000000000000000000\n",
        "    return minind\n",
        "\n",
        "    \n",
        "\n",
        "#print(minind)   \n",
        "def pred(minind):\n",
        "    production=[]\n",
        "    prodsum=0\n",
        "    predicted=0\n",
        "    for i in range(0,2):\n",
        "        production.append(train_y[minind[i]])\n",
        "        #print(train_y[minind[i]])\n",
        "        prodsum+=train_y[minind[i]]\n",
        "    predicted=prodsum/2\n",
        "    #print(predicted)\n",
        "    return predicted\n",
        "\n",
        "p=[]\n",
        "time_taken = []\n",
        "for _ in range(1):\n",
        "  # Starting timer\n",
        "  start = time.time()\n",
        "  for i in test_x:\n",
        "    dist=euc_dist(i[0],i[1],i[2],i[3],i[4],i[5])\n",
        "    minind=[]\n",
        "    minind=kmin(dist)\n",
        "    predicted_prod=pred(minind)\n",
        "    p.append(predicted_prod)\n",
        "  end = time.time()\n",
        "  time_taken.append(end-start)\n",
        "  \n",
        "print(\"The time taken by serial code = \",np.mean(time_taken), \" seconds\")\n",
        "atime=np.mean(time_taken)\n",
        "    "
      ],
      "execution_count": null,
      "outputs": [
        {
          "output_type": "stream",
          "name": "stdout",
          "text": [
            "The time taken by serial code =  101.36199903488159  seconds\n"
          ]
        }
      ]
    },
    {
      "cell_type": "code",
      "metadata": {
        "id": "4XT8Hbsc__GD",
        "colab": {
          "base_uri": "https://localhost:8080/"
        },
        "outputId": "5d037a30-d4a9-4378-e6b4-f3701492ffda"
      },
      "source": [
        "from numba import cuda\n",
        "import warnings\n",
        "warnings.filterwarnings(\"ignore\")\n",
        "import numba\n",
        "from numba import jit, config, threading_layer,  prange, njit\n",
        "import sys\n",
        "import os\n",
        "import math\n",
        "config.THREADING_LAYER = 'omp'\n",
        "@numba.njit(parallel = True)\n",
        "def euc_dist(sn,dn,yr,s,c,a):\n",
        "    dist=[]\n",
        "    for i in range(0,len(train_x)):\n",
        "        d=0\n",
        "        d=math.sqrt((sn-train_x[i][0])**2+(dn-train_x[i][1])**2+(yr-train_x[i][2])**2+(s-train_x[i][3])**2+(c-train_x[i][4])**2+(a-train_x[i][5])**2)\n",
        "        #d=(sn-train_x[i-1:i]['State_Name'])**2+(dn-train_x[i-1:i]['District_Name'])**2+(yr-train_x[i-1:i]['Crop_Year'])**2+(s-train_x[i-1:i]['Season'])**2+(c-train_x[i-1:i]['Crop'])**2+(a-train_x[i-1:i]['Area'])**2\n",
        "        dist.append(d)\n",
        "    return dist\n",
        "\n",
        "def kmin(dist):\n",
        "    mindist=[]\n",
        "    minind=[]\n",
        "    for k in range(0,2):\n",
        "        mindist.append(min(dist))\n",
        "        ind=dist.index(min(dist))\n",
        "        minind.append(dist.index(min(dist)))\n",
        "        dist[ind]=1000000000000000000000\n",
        "    return minind\n",
        "\n",
        "    \n",
        "\n",
        "#print(minind)   \n",
        "def pred(minind):\n",
        "    production=[]\n",
        "    prodsum=0\n",
        "    predicted=0\n",
        "    for i in range(0,2):\n",
        "        production.append(train_y[minind[i]])\n",
        "        #print(train_y[minind[i]])\n",
        "        prodsum+=train_y[minind[i]]\n",
        "    predicted=prodsum/2\n",
        "    #print(predicted)\n",
        "    return predicted\n",
        "\n",
        "\n",
        "tdz = np.array([2, 4, 8, 16, 32, 64, 128]) \n",
        "ttime = []\n",
        "ttime.append(atime)\n",
        "for i in tdz:\n",
        "  config.NUMBA_NUM_THREADS = i\n",
        "  time_taken = []\n",
        "  p=[]\n",
        "  for _ in range(0,1):\n",
        "    # Starting timer\n",
        "    start = time.time()\n",
        "    for i in test_x:\n",
        "      dist=euc_dist(i[0],i[1],i[2],i[3],i[4],i[5])\n",
        "      minind=[]\n",
        "      minind=kmin(dist)\n",
        "      predicted_prod=pred(minind)\n",
        "      p.append(predicted_prod)\n",
        "    \n",
        "    end = time.time()\n",
        "    time_taken.append(end-start)\n",
        "  ttime.append(np.mean(time_taken))\n",
        "avgp=0\n",
        "sump=0\n",
        "'''for i in range(1,len(ttime)):\n",
        "  sump+=ttime[i]\n",
        "avgp=sump/(len(ttime)-1)\n",
        "t=[]\n",
        "t.append(atime)\n",
        "t.append(avgp)  '''\n",
        "for i in range(1,len(ttime)):\n",
        "  print(\"Number of threads = \",tdz[i-1])\n",
        "  print(\"The time taken by parallel code = \",ttime[i], \" seconds\")\n",
        "#print(ttime)\n"
      ],
      "execution_count": null,
      "outputs": [
        {
          "output_type": "stream",
          "name": "stdout",
          "text": [
            "Number of threads =  2\n",
            "The time taken by parallel code =  4.100363492965698  seconds\n",
            "Number of threads =  4\n",
            "The time taken by parallel code =  3.2294178009033203  seconds\n",
            "Number of threads =  8\n",
            "The time taken by parallel code =  3.217916488647461  seconds\n",
            "Number of threads =  16\n",
            "The time taken by parallel code =  3.172503709793091  seconds\n",
            "Number of threads =  32\n",
            "The time taken by parallel code =  3.167202949523926  seconds\n",
            "Number of threads =  64\n",
            "The time taken by parallel code =  3.143765687942505  seconds\n",
            "Number of threads =  128\n",
            "The time taken by parallel code =  3.1820850372314453  seconds\n"
          ]
        }
      ]
    },
    {
      "cell_type": "code",
      "metadata": {
        "id": "FEQWEt4g__GD",
        "colab": {
          "base_uri": "https://localhost:8080/",
          "height": 606
        },
        "outputId": "604986fb-5cca-4fe8-b849-f9a7ac0d4ba5"
      },
      "source": [
        "x = np.array([1, 2, 4, 8, 16, 32, 64, 128])  \n",
        "y = np.array(ttime)\n",
        "#cols=[\"red\",\"green\",\"purple\",\"orange\",\"yellow\",\"cyan\",\"pink\",\"darkblue\"]\n",
        "plt.figure(figsize=(10,10))\n",
        "#for i in range(0,len(cols)):\n",
        "plt.plot(x, y, \"-o\",color=\"darkblue\", markerfacecolor=\"red\",markeredgecolor=\"red\",linewidth=5,markersize=\"10\")\n",
        "plt.xlabel(\"Number of Threads\")\n",
        "plt.ylabel(\"Time taken\")\n",
        "plt.show()"
      ],
      "execution_count": null,
      "outputs": [
        {
          "output_type": "display_data",
          "data": {
            "image/png": "[encoded data removed]",
            "text/plain": [
              "<Figure size 720x720 with 1 Axes>"
            ]
          },
          "metadata": {
            "needs_background": "light"
          }
        }
      ]
    },
    {
      "cell_type": "code",
      "metadata": {
        "id": "La_BvNfB__GE",
        "colab": {
          "base_uri": "https://localhost:8080/",
          "height": 423
        },
        "outputId": "8d618907-7272-4a16-84b5-1160ccaa1d8c"
      },
      "source": [
        "df=pd.DataFrame({\n",
        "    \"test_y\": test_y,\n",
        "    \"pred\": p,\n",
        "})\n",
        "df"
      ],
      "execution_count": null,
      "outputs": [
        {
          "output_type": "execute_result",
          "data": {
            "text/html": [
              "<div>\n",
              "<style scoped>\n",
              "    .dataframe tbody tr th:only-of-type {\n",
              "        vertical-align: middle;\n",
              "    }\n",
              "\n",
              "    .dataframe tbody tr th {\n",
              "        vertical-align: top;\n",
              "    }\n",
              "\n",
              "    .dataframe thead th {\n",
              "        text-align: right;\n",
              "    }\n",
              "</style>\n",
              "<table border=\"1\" class=\"dataframe\">\n",
              "  <thead>\n",
              "    <tr style=\"text-align: right;\">\n",
              "      <th></th>\n",
              "      <th>test_y</th>\n",
              "      <th>pred</th>\n",
              "    </tr>\n",
              "  </thead>\n",
              "  <tbody>\n",
              "    <tr>\n",
              "      <th>0</th>\n",
              "      <td>6886.00</td>\n",
              "      <td>882.5</td>\n",
              "    </tr>\n",
              "    <tr>\n",
              "      <th>1</th>\n",
              "      <td>1126.00</td>\n",
              "      <td>1314.5</td>\n",
              "    </tr>\n",
              "    <tr>\n",
              "      <th>2</th>\n",
              "      <td>310.00</td>\n",
              "      <td>55540.0</td>\n",
              "    </tr>\n",
              "    <tr>\n",
              "      <th>3</th>\n",
              "      <td>828.52</td>\n",
              "      <td>489.0</td>\n",
              "    </tr>\n",
              "    <tr>\n",
              "      <th>4</th>\n",
              "      <td>555.00</td>\n",
              "      <td>13809.5</td>\n",
              "    </tr>\n",
              "    <tr>\n",
              "      <th>...</th>\n",
              "      <td>...</td>\n",
              "      <td>...</td>\n",
              "    </tr>\n",
              "    <tr>\n",
              "      <th>1995</th>\n",
              "      <td>12170.00</td>\n",
              "      <td>1452858.5</td>\n",
              "    </tr>\n",
              "    <tr>\n",
              "      <th>1996</th>\n",
              "      <td>37.00</td>\n",
              "      <td>69.0</td>\n",
              "    </tr>\n",
              "    <tr>\n",
              "      <th>1997</th>\n",
              "      <td>87055.00</td>\n",
              "      <td>3781.0</td>\n",
              "    </tr>\n",
              "    <tr>\n",
              "      <th>1998</th>\n",
              "      <td>66119.00</td>\n",
              "      <td>27150.0</td>\n",
              "    </tr>\n",
              "    <tr>\n",
              "      <th>1999</th>\n",
              "      <td>897.00</td>\n",
              "      <td>1050.5</td>\n",
              "    </tr>\n",
              "  </tbody>\n",
              "</table>\n",
              "<p>2000 rows × 2 columns</p>\n",
              "</div>"
            ],
            "text/plain": [
              "        test_y       pred\n",
              "0      6886.00      882.5\n",
              "1      1126.00     1314.5\n",
              "2       310.00    55540.0\n",
              "3       828.52      489.0\n",
              "4       555.00    13809.5\n",
              "...        ...        ...\n",
              "1995  12170.00  1452858.5\n",
              "1996     37.00       69.0\n",
              "1997  87055.00     3781.0\n",
              "1998  66119.00    27150.0\n",
              "1999    897.00     1050.5\n",
              "\n",
              "[2000 rows x 2 columns]"
            ]
          },
          "metadata": {},
          "execution_count": 73
        }
      ]
    },
    {
      "cell_type": "code",
      "metadata": {
        "id": "mCRAQOil__GE",
        "colab": {
          "base_uri": "https://localhost:8080/"
        },
        "outputId": "eabb5217-1ca0-4ea6-bd14-c8f3786caf10"
      },
      "source": [
        "from sklearn.metrics import r2_score\n",
        "print('Accuracy:', r2_score(test_y, p))"
      ],
      "execution_count": null,
      "outputs": [
        {
          "output_type": "stream",
          "name": "stdout",
          "text": [
            "Accuracy: 0.3736911089012904\n"
          ]
        }
      ]
    }
  ]
}