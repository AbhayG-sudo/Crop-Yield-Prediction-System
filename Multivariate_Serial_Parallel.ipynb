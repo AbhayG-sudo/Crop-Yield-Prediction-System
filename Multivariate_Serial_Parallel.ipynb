{
  "nbformat": 4,
  "nbformat_minor": 0,
  "metadata": {
    "colab": {
      "name": "PDC_J.ipynb",
      "provenance": []
    },
    "kernelspec": {
      "name": "python3",
      "display_name": "Python 3"
    },
    "language_info": {
      "name": "python"
    }
  },
  "cells": [
    {
      "cell_type": "code",
      "metadata": {
        "id": "9XBQxfOjynM6"
      },
      "source": [
        "import pandas as pd\n",
        "import numpy as np\n",
        "\n",
        "#to plot within notebook\n",
        "import matplotlib.pyplot as plt\n",
        "%matplotlib inline"
      ],
      "execution_count": null,
      "outputs": []
    },
    {
      "cell_type": "code",
      "metadata": {
        "colab": {
          "base_uri": "https://localhost:8080/",
          "height": 206
        },
        "id": "KIAIJw8zy0Nm",
        "outputId": "7f6a255b-b3a3-4eb5-a383-f2b799cd8631"
      },
      "source": [
        "df = pd.read_csv('PDC_Project.csv')\n",
        "df.head()"
      ],
      "execution_count": null,
      "outputs": [
        {
          "output_type": "execute_result",
          "data": {
            "text/html": [
              "<div>\n",
              "<style scoped>\n",
              "    .dataframe tbody tr th:only-of-type {\n",
              "        vertical-align: middle;\n",
              "    }\n",
              "\n",
              "    .dataframe tbody tr th {\n",
              "        vertical-align: top;\n",
              "    }\n",
              "\n",
              "    .dataframe thead th {\n",
              "        text-align: right;\n",
              "    }\n",
              "</style>\n",
              "<table border=\"1\" class=\"dataframe\">\n",
              "  <thead>\n",
              "    <tr style=\"text-align: right;\">\n",
              "      <th></th>\n",
              "      <th>Unnamed: 0</th>\n",
              "      <th>State_Name</th>\n",
              "      <th>District_Name</th>\n",
              "      <th>Crop_Year</th>\n",
              "      <th>Season</th>\n",
              "      <th>Crop</th>\n",
              "      <th>Area</th>\n",
              "      <th>Production</th>\n",
              "    </tr>\n",
              "  </thead>\n",
              "  <tbody>\n",
              "    <tr>\n",
              "      <th>0</th>\n",
              "      <td>0</td>\n",
              "      <td>0</td>\n",
              "      <td>82</td>\n",
              "      <td>2000</td>\n",
              "      <td>1</td>\n",
              "      <td>0</td>\n",
              "      <td>1254.0</td>\n",
              "      <td>2000.0</td>\n",
              "    </tr>\n",
              "    <tr>\n",
              "      <th>1</th>\n",
              "      <td>1</td>\n",
              "      <td>0</td>\n",
              "      <td>82</td>\n",
              "      <td>2000</td>\n",
              "      <td>1</td>\n",
              "      <td>46</td>\n",
              "      <td>2.0</td>\n",
              "      <td>1.0</td>\n",
              "    </tr>\n",
              "    <tr>\n",
              "      <th>2</th>\n",
              "      <td>2</td>\n",
              "      <td>0</td>\n",
              "      <td>82</td>\n",
              "      <td>2000</td>\n",
              "      <td>1</td>\n",
              "      <td>59</td>\n",
              "      <td>102.0</td>\n",
              "      <td>321.0</td>\n",
              "    </tr>\n",
              "    <tr>\n",
              "      <th>3</th>\n",
              "      <td>3</td>\n",
              "      <td>0</td>\n",
              "      <td>82</td>\n",
              "      <td>2000</td>\n",
              "      <td>4</td>\n",
              "      <td>3</td>\n",
              "      <td>176.0</td>\n",
              "      <td>641.0</td>\n",
              "    </tr>\n",
              "    <tr>\n",
              "      <th>4</th>\n",
              "      <td>4</td>\n",
              "      <td>0</td>\n",
              "      <td>82</td>\n",
              "      <td>2000</td>\n",
              "      <td>4</td>\n",
              "      <td>12</td>\n",
              "      <td>720.0</td>\n",
              "      <td>165.0</td>\n",
              "    </tr>\n",
              "  </tbody>\n",
              "</table>\n",
              "</div>"
            ],
            "text/plain": [
              "   Unnamed: 0  State_Name  District_Name  ...  Crop    Area  Production\n",
              "0           0           0             82  ...     0  1254.0      2000.0\n",
              "1           1           0             82  ...    46     2.0         1.0\n",
              "2           2           0             82  ...    59   102.0       321.0\n",
              "3           3           0             82  ...     3   176.0       641.0\n",
              "4           4           0             82  ...    12   720.0       165.0\n",
              "\n",
              "[5 rows x 8 columns]"
            ]
          },
          "metadata": {},
          "execution_count": 21
        }
      ]
    },
    {
      "cell_type": "code",
      "metadata": {
        "colab": {
          "base_uri": "https://localhost:8080/"
        },
        "id": "9RI_h0tB0Gbm",
        "outputId": "5517a8f9-51bb-4cb8-ef96-f88c57c59486"
      },
      "source": [
        "y = df[\"Production\"].values\n",
        "y"
      ],
      "execution_count": null,
      "outputs": [
        {
          "output_type": "execute_result",
          "data": {
            "text/plain": [
              "array([2.00e+03, 1.00e+00, 3.21e+02, ..., 3.09e+02, 1.94e+02, 1.70e+01])"
            ]
          },
          "metadata": {},
          "execution_count": 22
        }
      ]
    },
    {
      "cell_type": "code",
      "metadata": {
        "colab": {
          "base_uri": "https://localhost:8080/"
        },
        "id": "fod9QSTu0KkI",
        "outputId": "d6ecf066-7c58-4a43-b61b-cb9cc6fe90cf"
      },
      "source": [
        "x = df.drop([\"Unnamed: 0\", \"State_Name\", \"District_Name\", \"Crop_Year\", \"Season\"], axis = 1)\n",
        "x = x.values\n",
        "x"
      ],
      "execution_count": null,
      "outputs": [
        {
          "output_type": "execute_result",
          "data": {
            "text/plain": [
              "array([[0.000e+00, 1.254e+03, 2.000e+03],\n",
              "       [4.600e+01, 2.000e+00, 1.000e+00],\n",
              "       [5.900e+01, 1.020e+02, 3.210e+02],\n",
              "       ...,\n",
              "       [7.400e+01, 1.778e+03, 3.090e+02],\n",
              "       [2.400e+01, 2.160e+02, 1.940e+02],\n",
              "       [2.800e+01, 5.100e+01, 1.700e+01]])"
            ]
          },
          "metadata": {},
          "execution_count": 23
        }
      ]
    },
    {
      "cell_type": "code",
      "metadata": {
        "id": "M72qHoK50N23"
      },
      "source": [
        "from sklearn.model_selection import train_test_split \n",
        "x_train, x_test, y_train, y_test = train_test_split(x, y, test_size=0.3, random_state=10)"
      ],
      "execution_count": null,
      "outputs": []
    },
    {
      "cell_type": "code",
      "metadata": {
        "id": "2gIHMZcz0RKx"
      },
      "source": [
        "x_train_standardized = (x_train - x_train .mean()) / x_train.std()\n",
        "x_test_standardized  = (x_test - x_train.mean()) /  x_train.std()"
      ],
      "execution_count": null,
      "outputs": []
    },
    {
      "cell_type": "markdown",
      "metadata": {
        "id": "pSD_R9fl0ZOZ"
      },
      "source": [
        "## Serial Code"
      ]
    },
    {
      "cell_type": "code",
      "metadata": {
        "id": "Qpm-hRU10fEZ"
      },
      "source": [
        "import time\n",
        "from numba import config, njit, set_num_threads, prange\n",
        "\n",
        "def error_function(y_actual,y_predicted):\n",
        "    error = 0\n",
        "    for i in range(0,len(y_actual)):\n",
        "        error =  error + pow((y_actual[i] - y_predicted[i]),2)\n",
        "        return error/(2*len(y_actual))\n",
        "\n",
        "def y_predicted(w,x):\n",
        "    y_pred = np.zeros(len(x))\n",
        "    for i in range(0,len(x)):\n",
        "        for j in range(0,len(w)):\n",
        "            y_pred[i] = y_pred[i]+(w[j]*x[i][j] + w[-1])\n",
        "    return y_pred\n",
        "\n",
        "def gradient_descent(y_actual,y_pred,x):\n",
        "    grad = np.zeros(x.shape[1])\n",
        "    for i in range(x.shape[1]):\n",
        "        for j in range(0,len(y_actual)):\n",
        "            grad[i] = - (y_actual[j] - y_pred[j])*x[j][i] + grad[i]\n",
        "    return grad/len(y_actual)\n",
        "\n",
        "def weights(x_train,y_train,num_iterations,learning_rate):\n",
        "    no_of_rows = x_train.shape[0]\n",
        "    no_of_columns = x_train.shape[1]\n",
        "    new_x_train = np.ones((no_of_rows,no_of_columns+1))\n",
        "    new_x_train[:,0:no_of_columns] = x_train\n",
        "    w = np.zeros(no_of_columns)\n",
        "    w =np.append(w,1)\n",
        "    for i in range(0,num_iterations):\n",
        "        y_pred = y_predicted(w,new_x_train)\n",
        "        error = error_function(y_train,y_pred)\n",
        "        #print(\"mean square error: \",error,\"after\",i,\"th iteration\")\n",
        "        MSE_points.append(error)\n",
        "        grad = gradient_descent(y_train,y_pred,new_x_train)\n",
        "        w = w - learning_rate*grad\n",
        "        learning_rate = learning_rate/1.05                               \n",
        "    return w\n",
        "\n",
        "def regression_test(x_test,w):\n",
        "    row = x_test.shape[0]\n",
        "    column = x_test.shape[1]\n",
        "    new_x_test = np.ones((row,column+1))\n",
        "    new_x_test[:,0:column] = x_test\n",
        "    y_pred = y_predicted(w,new_x_test)\n",
        "    return(y_pred)"
      ],
      "execution_count": null,
      "outputs": []
    },
    {
      "cell_type": "code",
      "metadata": {
        "colab": {
          "base_uri": "https://localhost:8080/"
        },
        "id": "zCWy3yb50nAI",
        "outputId": "a0532cec-df45-4d31-bcd6-683db699bf9a"
      },
      "source": [
        "start = time.time()\n",
        "MSE_points = []\n",
        "num_iterations = 300\n",
        "learning_rate = 0.1\n",
        "w = weights(x_train_standardized,y_train,num_iterations,learning_rate)\n",
        "Y_pred = regression_test(x_test_standardized,w)\n",
        "error_function(y_test,Y_pred)\n",
        "end = time.time()\n",
        "print(\"Time taken = \",(end-start), \"seconds\")"
      ],
      "execution_count": null,
      "outputs": [
        {
          "output_type": "stream",
          "name": "stdout",
          "text": [
            "Time taken =  110.83039665222168 seconds\n"
          ]
        }
      ]
    },
    {
      "cell_type": "code",
      "metadata": {
        "colab": {
          "base_uri": "https://localhost:8080/",
          "height": 363
        },
        "id": "OvqEJ-qv1Zys",
        "outputId": "d0ae6f0b-af65-45f9-dedb-4eea83fd2afd"
      },
      "source": [
        "pred_df = pd.DataFrame({'Actual Value' : y_test, 'Predicted Values' : Y_pred,})\n",
        "pred_df.head(10)"
      ],
      "execution_count": null,
      "outputs": [
        {
          "output_type": "execute_result",
          "data": {
            "text/html": [
              "<div>\n",
              "<style scoped>\n",
              "    .dataframe tbody tr th:only-of-type {\n",
              "        vertical-align: middle;\n",
              "    }\n",
              "\n",
              "    .dataframe tbody tr th {\n",
              "        vertical-align: top;\n",
              "    }\n",
              "\n",
              "    .dataframe thead th {\n",
              "        text-align: right;\n",
              "    }\n",
              "</style>\n",
              "<table border=\"1\" class=\"dataframe\">\n",
              "  <thead>\n",
              "    <tr style=\"text-align: right;\">\n",
              "      <th></th>\n",
              "      <th>Actual Value</th>\n",
              "      <th>Predicted Values</th>\n",
              "    </tr>\n",
              "  </thead>\n",
              "  <tbody>\n",
              "    <tr>\n",
              "      <th>0</th>\n",
              "      <td>1762.0</td>\n",
              "      <td>2624.420511</td>\n",
              "    </tr>\n",
              "    <tr>\n",
              "      <th>1</th>\n",
              "      <td>22884.0</td>\n",
              "      <td>23724.120205</td>\n",
              "    </tr>\n",
              "    <tr>\n",
              "      <th>2</th>\n",
              "      <td>62.0</td>\n",
              "      <td>926.209663</td>\n",
              "    </tr>\n",
              "    <tr>\n",
              "      <th>3</th>\n",
              "      <td>3711.0</td>\n",
              "      <td>4571.259564</td>\n",
              "    </tr>\n",
              "    <tr>\n",
              "      <th>4</th>\n",
              "      <td>141.0</td>\n",
              "      <td>1005.127183</td>\n",
              "    </tr>\n",
              "    <tr>\n",
              "      <th>5</th>\n",
              "      <td>61.0</td>\n",
              "      <td>925.215671</td>\n",
              "    </tr>\n",
              "    <tr>\n",
              "      <th>6</th>\n",
              "      <td>2048.0</td>\n",
              "      <td>2910.089373</td>\n",
              "    </tr>\n",
              "    <tr>\n",
              "      <th>7</th>\n",
              "      <td>108.0</td>\n",
              "      <td>972.162142</td>\n",
              "    </tr>\n",
              "    <tr>\n",
              "      <th>8</th>\n",
              "      <td>250.0</td>\n",
              "      <td>1114.014886</td>\n",
              "    </tr>\n",
              "    <tr>\n",
              "      <th>9</th>\n",
              "      <td>14.0</td>\n",
              "      <td>878.262165</td>\n",
              "    </tr>\n",
              "  </tbody>\n",
              "</table>\n",
              "</div>"
            ],
            "text/plain": [
              "   Actual Value  Predicted Values\n",
              "0        1762.0       2624.420511\n",
              "1       22884.0      23724.120205\n",
              "2          62.0        926.209663\n",
              "3        3711.0       4571.259564\n",
              "4         141.0       1005.127183\n",
              "5          61.0        925.215671\n",
              "6        2048.0       2910.089373\n",
              "7         108.0        972.162142\n",
              "8         250.0       1114.014886\n",
              "9          14.0        878.262165"
            ]
          },
          "metadata": {},
          "execution_count": 28
        }
      ]
    },
    {
      "cell_type": "markdown",
      "metadata": {
        "id": "HYosiy351TM8"
      },
      "source": [
        "## Parallel Code"
      ]
    },
    {
      "cell_type": "code",
      "metadata": {
        "id": "DFUfk2021QkG"
      },
      "source": [
        "import time\n",
        "from numba import config, njit, set_num_threads, prange, int32\n",
        "config.THREADING_LAYER = 'omp'\n",
        "\n",
        "\n",
        "def error_function(y_actual,y_predicted):\n",
        "    error = 0\n",
        "    for i in range(0,len(y_actual)):\n",
        "        error =  error + pow((y_actual[i] - y_predicted[i]),2)\n",
        "        return error/(2*len(y_actual))\n",
        "\n",
        "@njit(parallel=True)\n",
        "def y_predicted(w,x):\n",
        "    y_pred = np.zeros(len(x))\n",
        "    for i in range(0,len(x)):\n",
        "        for j in range(0,len(w)):\n",
        "            y_pred[i] = y_pred[i]+(w[j]*x[i][j] + w[-1])\n",
        "    return y_pred\n",
        "\n",
        "def gradient_descent(y_actual,y_pred,x):\n",
        "    grad = np.zeros(x.shape[1])\n",
        "    for i in range(x.shape[1]):\n",
        "        for j in range(0,len(y_actual)):\n",
        "            grad[i] = - (y_actual[j] - y_pred[j])*x[j][i] + grad[i]\n",
        "    return grad/len(y_actual)\n",
        "\n",
        "def weights(x_train,y_train,num_iterations,learning_rate):\n",
        "    no_of_rows = x_train.shape[0]\n",
        "    no_of_columns = x_train.shape[1]\n",
        "    new_x_train = np.ones((no_of_rows,no_of_columns+1))\n",
        "    new_x_train[:,0:no_of_columns] = x_train\n",
        "    w = np.zeros(no_of_columns)\n",
        "    w =np.append(w,1)\n",
        "    for i in range(0,num_iterations):\n",
        "        y_pred = y_predicted(w,new_x_train)\n",
        "        error = error_function(y_train,y_pred)\n",
        "        #print(\"mean square error: \",error,\"after\",i,\"th iteration\")\n",
        "        MSE_points.append(error)\n",
        "        grad = gradient_descent(y_train,y_pred,new_x_train)\n",
        "        w = w - learning_rate*grad\n",
        "        learning_rate = learning_rate/1.05                                \n",
        "    return w\n",
        "\n",
        "def regression_test(x_test,w):\n",
        "    row = x_test.shape[0]\n",
        "    column = x_test.shape[1]\n",
        "    new_x_test = np.ones((row,column+1))\n",
        "    new_x_test[:,0:column] = x_test\n",
        "    y_pred = y_predicted(w,new_x_test)\n",
        "    return(y_pred)"
      ],
      "execution_count": null,
      "outputs": []
    },
    {
      "cell_type": "code",
      "metadata": {
        "colab": {
          "base_uri": "https://localhost:8080/"
        },
        "id": "LDAE8XfT1g7Y",
        "outputId": "5570fcb8-3c61-4f4d-fee7-8a12a5d5eeea"
      },
      "source": [
        "Time = []\n",
        "for i in [2, 4, 8, 16, 32, 64, 128]:\n",
        "    config.NUMBA_NUM_THREADS = i\n",
        "    start = time.time()\n",
        "    MSE_points = []\n",
        "    num_iterations = 300\n",
        "    learning_rate = 0.1\n",
        "    w = weights(x_train_standardized,y_train,num_iterations,learning_rate)\n",
        "    Y_pred = regression_test(x_test_standardized,w)\n",
        "    error_function(y_test,Y_pred)\n",
        "    end = time.time()\n",
        "    Time.append((end-start))\n",
        "    print(\"For \" + str(i)  + \" threads, \" + \"Time taken = \",(end-start), \"seconds\")"
      ],
      "execution_count": null,
      "outputs": [
        {
          "output_type": "stream",
          "name": "stdout",
          "text": [
            "For 2 threads, Time taken =  56.57306146621704 seconds\n",
            "For 4 threads, Time taken =  55.48495316505432 seconds\n",
            "For 8 threads, Time taken =  55.241859912872314 seconds\n",
            "For 16 threads, Time taken =  55.46914529800415 seconds\n",
            "For 32 threads, Time taken =  55.37310457229614 seconds\n",
            "For 64 threads, Time taken =  55.77378273010254 seconds\n",
            "For 128 threads, Time taken =  55.708341121673584 seconds\n"
          ]
        }
      ]
    },
    {
      "cell_type": "code",
      "metadata": {
        "id": "apEF1Vkd3UsJ"
      },
      "source": [
        "Time.insert(0, 110.83039665222168)"
      ],
      "execution_count": null,
      "outputs": []
    },
    {
      "cell_type": "code",
      "metadata": {
        "id": "IPTF-B6y3bbW"
      },
      "source": [
        "from sklearn.metrics import mean_squared_error,r2_score"
      ],
      "execution_count": null,
      "outputs": []
    },
    {
      "cell_type": "code",
      "metadata": {
        "colab": {
          "base_uri": "https://localhost:8080/",
          "height": 363
        },
        "id": "OpkDQAuH3e5Y",
        "outputId": "13076251-bcc9-4c50-99ab-e6becd02e35c"
      },
      "source": [
        "pred_df = pd.DataFrame(\n",
        "    {\n",
        "        'Actual Value' : y_test, \n",
        "     'Predicted Values' : Y_pred,\n",
        "    }\n",
        ")\n",
        "pred_df.head(10)"
      ],
      "execution_count": null,
      "outputs": [
        {
          "output_type": "execute_result",
          "data": {
            "text/html": [
              "<div>\n",
              "<style scoped>\n",
              "    .dataframe tbody tr th:only-of-type {\n",
              "        vertical-align: middle;\n",
              "    }\n",
              "\n",
              "    .dataframe tbody tr th {\n",
              "        vertical-align: top;\n",
              "    }\n",
              "\n",
              "    .dataframe thead th {\n",
              "        text-align: right;\n",
              "    }\n",
              "</style>\n",
              "<table border=\"1\" class=\"dataframe\">\n",
              "  <thead>\n",
              "    <tr style=\"text-align: right;\">\n",
              "      <th></th>\n",
              "      <th>Actual Value</th>\n",
              "      <th>Predicted Values</th>\n",
              "    </tr>\n",
              "  </thead>\n",
              "  <tbody>\n",
              "    <tr>\n",
              "      <th>0</th>\n",
              "      <td>1762.0</td>\n",
              "      <td>2624.420511</td>\n",
              "    </tr>\n",
              "    <tr>\n",
              "      <th>1</th>\n",
              "      <td>22884.0</td>\n",
              "      <td>23724.120205</td>\n",
              "    </tr>\n",
              "    <tr>\n",
              "      <th>2</th>\n",
              "      <td>62.0</td>\n",
              "      <td>926.209663</td>\n",
              "    </tr>\n",
              "    <tr>\n",
              "      <th>3</th>\n",
              "      <td>3711.0</td>\n",
              "      <td>4571.259564</td>\n",
              "    </tr>\n",
              "    <tr>\n",
              "      <th>4</th>\n",
              "      <td>141.0</td>\n",
              "      <td>1005.127183</td>\n",
              "    </tr>\n",
              "    <tr>\n",
              "      <th>5</th>\n",
              "      <td>61.0</td>\n",
              "      <td>925.215671</td>\n",
              "    </tr>\n",
              "    <tr>\n",
              "      <th>6</th>\n",
              "      <td>2048.0</td>\n",
              "      <td>2910.089373</td>\n",
              "    </tr>\n",
              "    <tr>\n",
              "      <th>7</th>\n",
              "      <td>108.0</td>\n",
              "      <td>972.162142</td>\n",
              "    </tr>\n",
              "    <tr>\n",
              "      <th>8</th>\n",
              "      <td>250.0</td>\n",
              "      <td>1114.014886</td>\n",
              "    </tr>\n",
              "    <tr>\n",
              "      <th>9</th>\n",
              "      <td>14.0</td>\n",
              "      <td>878.262165</td>\n",
              "    </tr>\n",
              "  </tbody>\n",
              "</table>\n",
              "</div>"
            ],
            "text/plain": [
              "   Actual Value  Predicted Values\n",
              "0        1762.0       2624.420511\n",
              "1       22884.0      23724.120205\n",
              "2          62.0        926.209663\n",
              "3        3711.0       4571.259564\n",
              "4         141.0       1005.127183\n",
              "5          61.0        925.215671\n",
              "6        2048.0       2910.089373\n",
              "7         108.0        972.162142\n",
              "8         250.0       1114.014886\n",
              "9          14.0        878.262165"
            ]
          },
          "metadata": {},
          "execution_count": 33
        }
      ]
    },
    {
      "cell_type": "code",
      "metadata": {
        "colab": {
          "base_uri": "https://localhost:8080/"
        },
        "id": "C2fNtelI3hgx",
        "outputId": "ef9bd224-00b8-43b7-cff2-aaca3303e08a"
      },
      "source": [
        " r2 = r2_score(y_test,Y_pred)\n",
        "print(\"The R^2 value is: \",r2)"
      ],
      "execution_count": null,
      "outputs": [
        {
          "output_type": "stream",
          "name": "stdout",
          "text": [
            "The R^2 value is:  0.9999988889179184\n"
          ]
        }
      ]
    },
    {
      "cell_type": "code",
      "metadata": {
        "colab": {
          "base_uri": "https://localhost:8080/",
          "height": 279
        },
        "id": "oACDgAGO3qLz",
        "outputId": "9765f3fb-5138-4962-e958-eca83276c981"
      },
      "source": [
        "import matplotlib.pyplot as plt\n",
        "import numpy as np\n",
        "  \n",
        "# define data values\n",
        "x = np.array([1, 2, 4, 8, 16, 32, 64, 128])  \n",
        "y = np.array(Time)\n",
        "  \n",
        "plt.plot(x, y, \"-o\")\n",
        "plt.xlabel(\"Number of Threads\")\n",
        "plt.ylabel(\"Time taken (in Milliseconds)\")\n",
        "plt.show()"
      ],
      "execution_count": null,
      "outputs": [
        {
          "output_type": "display_data",
          "data": {
            "image/png": "[encoded data removed]",
            "text/plain": [
              "<Figure size 432x288 with 1 Axes>"
            ]
          },
          "metadata": {
            "needs_background": "light"
          }
        }
      ]
    }
  ]
}